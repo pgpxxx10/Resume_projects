{
 "cells": [
  {
   "cell_type": "markdown",
   "metadata": {},
   "source": [
    "## Flight Price prediction Project Overview\n",
    "\n",
    "Created a tool that predicts flight price with 95% accuracy\n",
    "Data source from Kaggle https://www.kaggle.com/anshigupta01/flight-price-prediction/data\n",
    "The data source is in excell format: Data Train,\n",
    "Code and Resources Used\n",
    "Python Version: 3.8\n",
    "Packages: pandas, numpy, matplotlib, seaborn, sklearn\n",
    "\t!['Project Overview'](airplane.jpg)"
   ]
  },
  {
   "cell_type": "code",
   "execution_count": 1,
   "metadata": {},
   "outputs": [],
   "source": [
    "#Import necessary libraries\n",
    "\n",
    "import pandas as pd \n",
    "import numpy as np \n",
    "import seaborn as sns \n",
    "import matplotlib.pyplot as plt\n",
    "from sklearn.preprocessing import StandardScaler\n",
    "from sklearn.model_selection import train_test_split, GridSearchCV\n",
    "from sklearn.metrics import accuracy_score,confusion_matrix\n"
   ]
  },
  {
   "cell_type": "code",
   "execution_count": 2,
   "metadata": {},
   "outputs": [
    {
     "data": {
      "text/html": [
       "<div>\n",
       "<style scoped>\n",
       "    .dataframe tbody tr th:only-of-type {\n",
       "        vertical-align: middle;\n",
       "    }\n",
       "\n",
       "    .dataframe tbody tr th {\n",
       "        vertical-align: top;\n",
       "    }\n",
       "\n",
       "    .dataframe thead th {\n",
       "        text-align: right;\n",
       "    }\n",
       "</style>\n",
       "<table border=\"1\" class=\"dataframe\">\n",
       "  <thead>\n",
       "    <tr style=\"text-align: right;\">\n",
       "      <th></th>\n",
       "      <th>Airline</th>\n",
       "      <th>Date_of_Journey</th>\n",
       "      <th>Source</th>\n",
       "      <th>Destination</th>\n",
       "      <th>Route</th>\n",
       "      <th>Dep_Time</th>\n",
       "      <th>Arrival_Time</th>\n",
       "      <th>Duration</th>\n",
       "      <th>Total_Stops</th>\n",
       "      <th>Additional_Info</th>\n",
       "      <th>Price</th>\n",
       "    </tr>\n",
       "  </thead>\n",
       "  <tbody>\n",
       "    <tr>\n",
       "      <th>0</th>\n",
       "      <td>IndiGo</td>\n",
       "      <td>24/03/2019</td>\n",
       "      <td>Banglore</td>\n",
       "      <td>New Delhi</td>\n",
       "      <td>BLR → DEL</td>\n",
       "      <td>22:20</td>\n",
       "      <td>01:10 22 Mar</td>\n",
       "      <td>2h 50m</td>\n",
       "      <td>non-stop</td>\n",
       "      <td>No info</td>\n",
       "      <td>3897</td>\n",
       "    </tr>\n",
       "    <tr>\n",
       "      <th>1</th>\n",
       "      <td>Air India</td>\n",
       "      <td>1/05/2019</td>\n",
       "      <td>Kolkata</td>\n",
       "      <td>Banglore</td>\n",
       "      <td>CCU → IXR → BBI → BLR</td>\n",
       "      <td>05:50</td>\n",
       "      <td>13:15</td>\n",
       "      <td>7h 25m</td>\n",
       "      <td>2 stops</td>\n",
       "      <td>No info</td>\n",
       "      <td>7662</td>\n",
       "    </tr>\n",
       "    <tr>\n",
       "      <th>2</th>\n",
       "      <td>Jet Airways</td>\n",
       "      <td>9/06/2019</td>\n",
       "      <td>Delhi</td>\n",
       "      <td>Cochin</td>\n",
       "      <td>DEL → LKO → BOM → COK</td>\n",
       "      <td>09:25</td>\n",
       "      <td>04:25 10 Jun</td>\n",
       "      <td>19h</td>\n",
       "      <td>2 stops</td>\n",
       "      <td>No info</td>\n",
       "      <td>13882</td>\n",
       "    </tr>\n",
       "    <tr>\n",
       "      <th>3</th>\n",
       "      <td>IndiGo</td>\n",
       "      <td>12/05/2019</td>\n",
       "      <td>Kolkata</td>\n",
       "      <td>Banglore</td>\n",
       "      <td>CCU → NAG → BLR</td>\n",
       "      <td>18:05</td>\n",
       "      <td>23:30</td>\n",
       "      <td>5h 25m</td>\n",
       "      <td>1 stop</td>\n",
       "      <td>No info</td>\n",
       "      <td>6218</td>\n",
       "    </tr>\n",
       "    <tr>\n",
       "      <th>4</th>\n",
       "      <td>IndiGo</td>\n",
       "      <td>01/03/2019</td>\n",
       "      <td>Banglore</td>\n",
       "      <td>New Delhi</td>\n",
       "      <td>BLR → NAG → DEL</td>\n",
       "      <td>16:50</td>\n",
       "      <td>21:35</td>\n",
       "      <td>4h 45m</td>\n",
       "      <td>1 stop</td>\n",
       "      <td>No info</td>\n",
       "      <td>13302</td>\n",
       "    </tr>\n",
       "  </tbody>\n",
       "</table>\n",
       "</div>"
      ],
      "text/plain": [
       "       Airline Date_of_Journey    Source Destination                  Route  \\\n",
       "0       IndiGo      24/03/2019  Banglore   New Delhi              BLR → DEL   \n",
       "1    Air India       1/05/2019   Kolkata    Banglore  CCU → IXR → BBI → BLR   \n",
       "2  Jet Airways       9/06/2019     Delhi      Cochin  DEL → LKO → BOM → COK   \n",
       "3       IndiGo      12/05/2019   Kolkata    Banglore        CCU → NAG → BLR   \n",
       "4       IndiGo      01/03/2019  Banglore   New Delhi        BLR → NAG → DEL   \n",
       "\n",
       "  Dep_Time  Arrival_Time Duration Total_Stops Additional_Info  Price  \n",
       "0    22:20  01:10 22 Mar   2h 50m    non-stop         No info   3897  \n",
       "1    05:50         13:15   7h 25m     2 stops         No info   7662  \n",
       "2    09:25  04:25 10 Jun      19h     2 stops         No info  13882  \n",
       "3    18:05         23:30   5h 25m      1 stop         No info   6218  \n",
       "4    16:50         21:35   4h 45m      1 stop         No info  13302  "
      ]
     },
     "execution_count": 2,
     "metadata": {},
     "output_type": "execute_result"
    }
   ],
   "source": [
    "# Loading excell Data_Train for review.\n",
    "df_train = pd.read_excel(r\"C:\\Users\\Piotr\\Documents\\DS projects\\resume_projects\\Flight_price_prediction\\Data_Train.xlsx\")\n",
    "df_train.head()\n"
   ]
  },
  {
   "cell_type": "code",
   "execution_count": 3,
   "metadata": {},
   "outputs": [
    {
     "data": {
      "text/plain": [
       "(10683, 11)"
      ]
     },
     "execution_count": 3,
     "metadata": {},
     "output_type": "execute_result"
    }
   ],
   "source": [
    "# Show Data Frame size\n",
    "df_train.shape"
   ]
  },
  {
   "cell_type": "markdown",
   "metadata": {},
   "source": [
    "## Data pre-processing\n",
    "Data Frame requires some pre-processing.  I will extract more useful information from Data Frame in numeric format. Data require below actions:\n",
    "<dl>\n",
    "  <dd>Clean and change type of data that will be usable for models prediction.</dd>\n",
    "  <dd>Manage missing data</dd>\n",
    "  <dd>Create numeric columns</dd>\n",
    "</dl>"
   ]
  },
  {
   "cell_type": "code",
   "execution_count": 4,
   "metadata": {},
   "outputs": [
    {
     "data": {
      "text/plain": [
       "Airline            0\n",
       "Date_of_Journey    0\n",
       "Source             0\n",
       "Destination        0\n",
       "Route              1\n",
       "Dep_Time           0\n",
       "Arrival_Time       0\n",
       "Duration           0\n",
       "Total_Stops        1\n",
       "Additional_Info    0\n",
       "Price              0\n",
       "dtype: int64"
      ]
     },
     "execution_count": 4,
     "metadata": {},
     "output_type": "execute_result"
    }
   ],
   "source": [
    "# Show sum of missing data in Data Frame \n",
    "df_train.isnull().sum()"
   ]
  },
  {
   "cell_type": "markdown",
   "metadata": {},
   "source": [
    "Data Frame have 2 Nan values in column Route and Total_Stops.\n",
    "Im expecting that its one line.\n",
    "Best option the will be to drop the line."
   ]
  },
  {
   "cell_type": "code",
   "execution_count": 5,
   "metadata": {},
   "outputs": [
    {
     "data": {
      "text/html": [
       "<div>\n",
       "<style scoped>\n",
       "    .dataframe tbody tr th:only-of-type {\n",
       "        vertical-align: middle;\n",
       "    }\n",
       "\n",
       "    .dataframe tbody tr th {\n",
       "        vertical-align: top;\n",
       "    }\n",
       "\n",
       "    .dataframe thead th {\n",
       "        text-align: right;\n",
       "    }\n",
       "</style>\n",
       "<table border=\"1\" class=\"dataframe\">\n",
       "  <thead>\n",
       "    <tr style=\"text-align: right;\">\n",
       "      <th></th>\n",
       "      <th>Airline</th>\n",
       "      <th>Date_of_Journey</th>\n",
       "      <th>Source</th>\n",
       "      <th>Destination</th>\n",
       "      <th>Route</th>\n",
       "      <th>Dep_Time</th>\n",
       "      <th>Arrival_Time</th>\n",
       "      <th>Duration</th>\n",
       "      <th>Total_Stops</th>\n",
       "      <th>Additional_Info</th>\n",
       "      <th>Price</th>\n",
       "    </tr>\n",
       "  </thead>\n",
       "  <tbody>\n",
       "    <tr>\n",
       "      <th>9039</th>\n",
       "      <td>Air India</td>\n",
       "      <td>6/05/2019</td>\n",
       "      <td>Delhi</td>\n",
       "      <td>Cochin</td>\n",
       "      <td>NaN</td>\n",
       "      <td>09:45</td>\n",
       "      <td>09:25 07 May</td>\n",
       "      <td>23h 40m</td>\n",
       "      <td>NaN</td>\n",
       "      <td>No info</td>\n",
       "      <td>7480</td>\n",
       "    </tr>\n",
       "  </tbody>\n",
       "</table>\n",
       "</div>"
      ],
      "text/plain": [
       "        Airline Date_of_Journey Source Destination Route Dep_Time  \\\n",
       "9039  Air India       6/05/2019  Delhi      Cochin   NaN    09:45   \n",
       "\n",
       "      Arrival_Time Duration Total_Stops Additional_Info  Price  \n",
       "9039  09:25 07 May  23h 40m         NaN         No info   7480  "
      ]
     },
     "execution_count": 5,
     "metadata": {},
     "output_type": "execute_result"
    }
   ],
   "source": [
    "#Investigate Nan values in Data Frame\n",
    "\n",
    "df_null = df_train[df_train.isnull().any(axis=1)]\n",
    "df_null"
   ]
  },
  {
   "cell_type": "code",
   "execution_count": 6,
   "metadata": {},
   "outputs": [
    {
     "data": {
      "text/plain": [
       "(10682, 11)"
      ]
     },
     "execution_count": 6,
     "metadata": {},
     "output_type": "execute_result"
    }
   ],
   "source": [
    "# Dropping Nan line from Data Frame\n",
    "\n",
    "df_train.dropna(inplace=True)\n",
    "df_train.shape\n"
   ]
  },
  {
   "cell_type": "code",
   "execution_count": 7,
   "metadata": {},
   "outputs": [
    {
     "data": {
      "text/plain": [
       "Airline            object\n",
       "Date_of_Journey    object\n",
       "Source             object\n",
       "Destination        object\n",
       "Route              object\n",
       "Dep_Time           object\n",
       "Arrival_Time       object\n",
       "Duration           object\n",
       "Total_Stops        object\n",
       "Additional_Info    object\n",
       "Price               int64\n",
       "dtype: object"
      ]
     },
     "execution_count": 7,
     "metadata": {},
     "output_type": "execute_result"
    }
   ],
   "source": [
    "# Data type check\n",
    "df_train.dtypes"
   ]
  },
  {
   "cell_type": "code",
   "execution_count": 8,
   "metadata": {},
   "outputs": [],
   "source": [
    "# Create Hours and Minutes columns from Dep Time column and adjusting data type to intergers.\n",
    "df_train['Dep_Time_H'] = df_train['Dep_Time'].apply(lambda x: int(x.split(':')[0]))\n",
    "df_train['Dep_Time_M'] = df_train['Dep_Time'].apply(lambda x: int(x.split(':')[1]))\n",
    "\n",
    "# Create Hours and Minutes columns from Arrival Time column and adjusting data type to intergers.\n",
    "arrival_time_day = df_train['Arrival_Time'].apply(lambda x: (x.split(' ')[0]))\n",
    "df_train['Arrival_Time_H'] = arrival_time_day.apply(lambda x: int(x.split(':')[0]))\n",
    "df_train['Arrival_Time_M'] = arrival_time_day.apply(lambda x: int(x.split(':')[1]))"
   ]
  },
  {
   "cell_type": "code",
   "execution_count": 9,
   "metadata": {
    "scrolled": true
   },
   "outputs": [
    {
     "data": {
      "text/html": [
       "<div>\n",
       "<style scoped>\n",
       "    .dataframe tbody tr th:only-of-type {\n",
       "        vertical-align: middle;\n",
       "    }\n",
       "\n",
       "    .dataframe tbody tr th {\n",
       "        vertical-align: top;\n",
       "    }\n",
       "\n",
       "    .dataframe thead th {\n",
       "        text-align: right;\n",
       "    }\n",
       "</style>\n",
       "<table border=\"1\" class=\"dataframe\">\n",
       "  <thead>\n",
       "    <tr style=\"text-align: right;\">\n",
       "      <th></th>\n",
       "      <th>Airline</th>\n",
       "      <th>Date_of_Journey</th>\n",
       "      <th>Source</th>\n",
       "      <th>Destination</th>\n",
       "      <th>Route</th>\n",
       "      <th>Dep_Time</th>\n",
       "      <th>Arrival_Time</th>\n",
       "      <th>Duration</th>\n",
       "      <th>Total_Stops</th>\n",
       "      <th>Additional_Info</th>\n",
       "      <th>Price</th>\n",
       "      <th>Dep_Time_H</th>\n",
       "      <th>Dep_Time_M</th>\n",
       "      <th>Arrival_Time_H</th>\n",
       "      <th>Arrival_Time_M</th>\n",
       "      <th>Journey_Day</th>\n",
       "      <th>Journey_Month</th>\n",
       "    </tr>\n",
       "  </thead>\n",
       "  <tbody>\n",
       "    <tr>\n",
       "      <th>0</th>\n",
       "      <td>IndiGo</td>\n",
       "      <td>2019-03-24</td>\n",
       "      <td>Banglore</td>\n",
       "      <td>New Delhi</td>\n",
       "      <td>BLR → DEL</td>\n",
       "      <td>22:20</td>\n",
       "      <td>01:10 22 Mar</td>\n",
       "      <td>2h 50m</td>\n",
       "      <td>non-stop</td>\n",
       "      <td>No info</td>\n",
       "      <td>3897</td>\n",
       "      <td>22</td>\n",
       "      <td>20</td>\n",
       "      <td>1</td>\n",
       "      <td>10</td>\n",
       "      <td>24</td>\n",
       "      <td>3</td>\n",
       "    </tr>\n",
       "    <tr>\n",
       "      <th>1</th>\n",
       "      <td>Air India</td>\n",
       "      <td>2019-01-05</td>\n",
       "      <td>Kolkata</td>\n",
       "      <td>Banglore</td>\n",
       "      <td>CCU → IXR → BBI → BLR</td>\n",
       "      <td>05:50</td>\n",
       "      <td>13:15</td>\n",
       "      <td>7h 25m</td>\n",
       "      <td>2 stops</td>\n",
       "      <td>No info</td>\n",
       "      <td>7662</td>\n",
       "      <td>5</td>\n",
       "      <td>50</td>\n",
       "      <td>13</td>\n",
       "      <td>15</td>\n",
       "      <td>5</td>\n",
       "      <td>1</td>\n",
       "    </tr>\n",
       "    <tr>\n",
       "      <th>2</th>\n",
       "      <td>Jet Airways</td>\n",
       "      <td>2019-09-06</td>\n",
       "      <td>Delhi</td>\n",
       "      <td>Cochin</td>\n",
       "      <td>DEL → LKO → BOM → COK</td>\n",
       "      <td>09:25</td>\n",
       "      <td>04:25 10 Jun</td>\n",
       "      <td>19h</td>\n",
       "      <td>2 stops</td>\n",
       "      <td>No info</td>\n",
       "      <td>13882</td>\n",
       "      <td>9</td>\n",
       "      <td>25</td>\n",
       "      <td>4</td>\n",
       "      <td>25</td>\n",
       "      <td>6</td>\n",
       "      <td>9</td>\n",
       "    </tr>\n",
       "  </tbody>\n",
       "</table>\n",
       "</div>"
      ],
      "text/plain": [
       "       Airline Date_of_Journey    Source Destination                  Route  \\\n",
       "0       IndiGo      2019-03-24  Banglore   New Delhi              BLR → DEL   \n",
       "1    Air India      2019-01-05   Kolkata    Banglore  CCU → IXR → BBI → BLR   \n",
       "2  Jet Airways      2019-09-06     Delhi      Cochin  DEL → LKO → BOM → COK   \n",
       "\n",
       "  Dep_Time  Arrival_Time Duration Total_Stops Additional_Info  Price  \\\n",
       "0    22:20  01:10 22 Mar   2h 50m    non-stop         No info   3897   \n",
       "1    05:50         13:15   7h 25m     2 stops         No info   7662   \n",
       "2    09:25  04:25 10 Jun      19h     2 stops         No info  13882   \n",
       "\n",
       "   Dep_Time_H  Dep_Time_M  Arrival_Time_H  Arrival_Time_M  Journey_Day  \\\n",
       "0          22          20               1              10           24   \n",
       "1           5          50              13              15            5   \n",
       "2           9          25               4              25            6   \n",
       "\n",
       "   Journey_Month  \n",
       "0              3  \n",
       "1              1  \n",
       "2              9  "
      ]
     },
     "execution_count": 9,
     "metadata": {},
     "output_type": "execute_result"
    }
   ],
   "source": [
    "# Create new columns representing day and month of journey form Date of Journey column\n",
    "\n",
    "df_train['Date_of_Journey']=pd.to_datetime(df_train['Date_of_Journey'])\n",
    "                                           \n",
    "df_train['Journey_Day']= df_train['Date_of_Journey'].dt.day\n",
    "df_train['Journey_Month']=df_train['Date_of_Journey'].dt.month                                    \n",
    "df_train.head(3)"
   ]
  },
  {
   "cell_type": "code",
   "execution_count": 10,
   "metadata": {},
   "outputs": [],
   "source": [
    "# Adjust duration column to one format \"0h 0m\"\n",
    "duration=list(df_train['Duration'])\n",
    "for i in range(len(duration)):\n",
    "    if len(duration[i].split(' '))==2:\n",
    "        pass\n",
    "    else:\n",
    "        if 'h' in duration[i]: \n",
    "             duration[i]=duration[i] + ' 0m' \n",
    "        else:\n",
    "             duration[i]='0h '+ duration[i]\n",
    "\n",
    "df_train['Duration']=duration\n",
    "\n",
    "\n",
    "# Create Total duration in minutes from  ajuusted duration colum\n",
    "duration_h = df_train['Duration'].apply(lambda x: int(x.split(' ')[0][0:-1]))\n",
    "duration_m = df_train['Duration'].apply(lambda x: int(x.split(' ')[1][0:-1]))\n",
    "df_train['Total_Duration_in_min'] = duration_h * 60 + duration_m"
   ]
  },
  {
   "cell_type": "code",
   "execution_count": 11,
   "metadata": {},
   "outputs": [
    {
     "data": {
      "text/html": [
       "<div>\n",
       "<style scoped>\n",
       "    .dataframe tbody tr th:only-of-type {\n",
       "        vertical-align: middle;\n",
       "    }\n",
       "\n",
       "    .dataframe tbody tr th {\n",
       "        vertical-align: top;\n",
       "    }\n",
       "\n",
       "    .dataframe thead th {\n",
       "        text-align: right;\n",
       "    }\n",
       "</style>\n",
       "<table border=\"1\" class=\"dataframe\">\n",
       "  <thead>\n",
       "    <tr style=\"text-align: right;\">\n",
       "      <th></th>\n",
       "      <th>Airline</th>\n",
       "      <th>Date_of_Journey</th>\n",
       "      <th>Source</th>\n",
       "      <th>Destination</th>\n",
       "      <th>Route</th>\n",
       "      <th>Dep_Time</th>\n",
       "      <th>Arrival_Time</th>\n",
       "      <th>Duration</th>\n",
       "      <th>Total_Stops</th>\n",
       "      <th>Additional_Info</th>\n",
       "      <th>Price</th>\n",
       "      <th>Dep_Time_H</th>\n",
       "      <th>Dep_Time_M</th>\n",
       "      <th>Arrival_Time_H</th>\n",
       "      <th>Arrival_Time_M</th>\n",
       "      <th>Journey_Day</th>\n",
       "      <th>Journey_Month</th>\n",
       "      <th>Total_Duration_in_min</th>\n",
       "    </tr>\n",
       "  </thead>\n",
       "  <tbody>\n",
       "    <tr>\n",
       "      <th>0</th>\n",
       "      <td>IndiGo</td>\n",
       "      <td>2019-03-24</td>\n",
       "      <td>Banglore</td>\n",
       "      <td>New Delhi</td>\n",
       "      <td>BLR → DEL</td>\n",
       "      <td>22:20</td>\n",
       "      <td>01:10 22 Mar</td>\n",
       "      <td>2h 50m</td>\n",
       "      <td>0</td>\n",
       "      <td>No info</td>\n",
       "      <td>3897</td>\n",
       "      <td>22</td>\n",
       "      <td>20</td>\n",
       "      <td>1</td>\n",
       "      <td>10</td>\n",
       "      <td>24</td>\n",
       "      <td>3</td>\n",
       "      <td>170</td>\n",
       "    </tr>\n",
       "    <tr>\n",
       "      <th>1</th>\n",
       "      <td>Air India</td>\n",
       "      <td>2019-01-05</td>\n",
       "      <td>Kolkata</td>\n",
       "      <td>Banglore</td>\n",
       "      <td>CCU → IXR → BBI → BLR</td>\n",
       "      <td>05:50</td>\n",
       "      <td>13:15</td>\n",
       "      <td>7h 25m</td>\n",
       "      <td>2</td>\n",
       "      <td>No info</td>\n",
       "      <td>7662</td>\n",
       "      <td>5</td>\n",
       "      <td>50</td>\n",
       "      <td>13</td>\n",
       "      <td>15</td>\n",
       "      <td>5</td>\n",
       "      <td>1</td>\n",
       "      <td>445</td>\n",
       "    </tr>\n",
       "    <tr>\n",
       "      <th>2</th>\n",
       "      <td>Jet Airways</td>\n",
       "      <td>2019-09-06</td>\n",
       "      <td>Delhi</td>\n",
       "      <td>Cochin</td>\n",
       "      <td>DEL → LKO → BOM → COK</td>\n",
       "      <td>09:25</td>\n",
       "      <td>04:25 10 Jun</td>\n",
       "      <td>19h 0m</td>\n",
       "      <td>2</td>\n",
       "      <td>No info</td>\n",
       "      <td>13882</td>\n",
       "      <td>9</td>\n",
       "      <td>25</td>\n",
       "      <td>4</td>\n",
       "      <td>25</td>\n",
       "      <td>6</td>\n",
       "      <td>9</td>\n",
       "      <td>1140</td>\n",
       "    </tr>\n",
       "  </tbody>\n",
       "</table>\n",
       "</div>"
      ],
      "text/plain": [
       "       Airline Date_of_Journey    Source Destination                  Route  \\\n",
       "0       IndiGo      2019-03-24  Banglore   New Delhi              BLR → DEL   \n",
       "1    Air India      2019-01-05   Kolkata    Banglore  CCU → IXR → BBI → BLR   \n",
       "2  Jet Airways      2019-09-06     Delhi      Cochin  DEL → LKO → BOM → COK   \n",
       "\n",
       "  Dep_Time  Arrival_Time Duration  Total_Stops Additional_Info  Price  \\\n",
       "0    22:20  01:10 22 Mar   2h 50m            0         No info   3897   \n",
       "1    05:50         13:15   7h 25m            2         No info   7662   \n",
       "2    09:25  04:25 10 Jun   19h 0m            2         No info  13882   \n",
       "\n",
       "   Dep_Time_H  Dep_Time_M  Arrival_Time_H  Arrival_Time_M  Journey_Day  \\\n",
       "0          22          20               1              10           24   \n",
       "1           5          50              13              15            5   \n",
       "2           9          25               4              25            6   \n",
       "\n",
       "   Journey_Month  Total_Duration_in_min  \n",
       "0              3                    170  \n",
       "1              1                    445  \n",
       "2              9                   1140  "
      ]
     },
     "execution_count": 11,
     "metadata": {},
     "output_type": "execute_result"
    }
   ],
   "source": [
    "# Total stops column will change to numerical values\n",
    "dict={'non-stop':0, '2 stops':2, '1 stop':1, '3 stops':3, '4 stops':4}\n",
    "df_train['Total_Stops']=df_train['Total_Stops'].map(dict)\n",
    "df_train.head(3)"
   ]
  },
  {
   "cell_type": "code",
   "execution_count": 12,
   "metadata": {},
   "outputs": [
    {
     "data": {
      "text/plain": [
       "Airline                      0\n",
       "Date_of_Journey              0\n",
       "Source                       0\n",
       "Destination                  0\n",
       "Route                        0\n",
       "Dep_Time                     0\n",
       "Arrival_Time                 0\n",
       "Duration                     0\n",
       "Total_Stops                  0\n",
       "Additional_Info              0\n",
       "Price                        0\n",
       "Dep_Time_H                   0\n",
       "Dep_Time_M                   0\n",
       "Arrival_Time_H               0\n",
       "Arrival_Time_M               0\n",
       "Journey_Day                  0\n",
       "Journey_Month                0\n",
       "Total_Duration_in_min        0\n",
       "Route1                       0\n",
       "Route2                       0\n",
       "Route3                    3491\n",
       "Route4                    9116\n",
       "Route5                   10636\n",
       "dtype: int64"
      ]
     },
     "execution_count": 12,
     "metadata": {},
     "output_type": "execute_result"
    }
   ],
   "source": [
    "# Spliting Airport codes from Route column. Cost asociated with airports is part of ticket price.\n",
    "\n",
    "df_train['Route1']=df_train['Route'].str.split('→').str[0]\n",
    "df_train['Route2']=df_train['Route'].str.split('→').str[1]\n",
    "df_train['Route3']=df_train['Route'].str.split('→').str[2]\n",
    "df_train['Route4']=df_train['Route'].str.split('→').str[3]\n",
    "df_train['Route5']=df_train['Route'].str.split('→').str[4]\n",
    "\n",
    "# The New Route columns will have NaN values. As most of flightts will be represented by source and destination airport only.\n",
    "df_train.isnull().sum()"
   ]
  },
  {
   "cell_type": "code",
   "execution_count": 13,
   "metadata": {},
   "outputs": [
    {
     "data": {
      "text/plain": [
       "(array([], dtype=int64),)"
      ]
     },
     "execution_count": 13,
     "metadata": {},
     "output_type": "execute_result"
    }
   ],
   "source": [
    "# For loop that will replace NaN values to None\n",
    "for i in ['Route3', 'Route4', 'Route5']:\n",
    "    df_train[i].fillna('None',inplace=True)\n",
    "    \n",
    "# Making sure that Data Dframe do not include NaN values.  \n",
    "np.where(pd.isnull(df_train).sum())"
   ]
  },
  {
   "cell_type": "code",
   "execution_count": 14,
   "metadata": {},
   "outputs": [
    {
     "data": {
      "text/html": [
       "<div>\n",
       "<style scoped>\n",
       "    .dataframe tbody tr th:only-of-type {\n",
       "        vertical-align: middle;\n",
       "    }\n",
       "\n",
       "    .dataframe tbody tr th {\n",
       "        vertical-align: top;\n",
       "    }\n",
       "\n",
       "    .dataframe thead th {\n",
       "        text-align: right;\n",
       "    }\n",
       "</style>\n",
       "<table border=\"1\" class=\"dataframe\">\n",
       "  <thead>\n",
       "    <tr style=\"text-align: right;\">\n",
       "      <th></th>\n",
       "      <th>Airline</th>\n",
       "      <th>Source</th>\n",
       "      <th>Destination</th>\n",
       "      <th>Total_Stops</th>\n",
       "      <th>Additional_Info</th>\n",
       "      <th>Price</th>\n",
       "      <th>Dep_Time_H</th>\n",
       "      <th>Dep_Time_M</th>\n",
       "      <th>Arrival_Time_H</th>\n",
       "      <th>Arrival_Time_M</th>\n",
       "      <th>Journey_Day</th>\n",
       "      <th>Journey_Month</th>\n",
       "      <th>Total_Duration_in_min</th>\n",
       "      <th>Route1</th>\n",
       "      <th>Route2</th>\n",
       "      <th>Route3</th>\n",
       "      <th>Route4</th>\n",
       "      <th>Route5</th>\n",
       "    </tr>\n",
       "  </thead>\n",
       "  <tbody>\n",
       "    <tr>\n",
       "      <th>0</th>\n",
       "      <td>IndiGo</td>\n",
       "      <td>Banglore</td>\n",
       "      <td>New Delhi</td>\n",
       "      <td>0</td>\n",
       "      <td>No info</td>\n",
       "      <td>3897</td>\n",
       "      <td>22</td>\n",
       "      <td>20</td>\n",
       "      <td>1</td>\n",
       "      <td>10</td>\n",
       "      <td>24</td>\n",
       "      <td>3</td>\n",
       "      <td>170</td>\n",
       "      <td>BLR</td>\n",
       "      <td>DEL</td>\n",
       "      <td>None</td>\n",
       "      <td>None</td>\n",
       "      <td>None</td>\n",
       "    </tr>\n",
       "    <tr>\n",
       "      <th>1</th>\n",
       "      <td>Air India</td>\n",
       "      <td>Kolkata</td>\n",
       "      <td>Banglore</td>\n",
       "      <td>2</td>\n",
       "      <td>No info</td>\n",
       "      <td>7662</td>\n",
       "      <td>5</td>\n",
       "      <td>50</td>\n",
       "      <td>13</td>\n",
       "      <td>15</td>\n",
       "      <td>5</td>\n",
       "      <td>1</td>\n",
       "      <td>445</td>\n",
       "      <td>CCU</td>\n",
       "      <td>IXR</td>\n",
       "      <td>BBI</td>\n",
       "      <td>BLR</td>\n",
       "      <td>None</td>\n",
       "    </tr>\n",
       "    <tr>\n",
       "      <th>2</th>\n",
       "      <td>Jet Airways</td>\n",
       "      <td>Delhi</td>\n",
       "      <td>Cochin</td>\n",
       "      <td>2</td>\n",
       "      <td>No info</td>\n",
       "      <td>13882</td>\n",
       "      <td>9</td>\n",
       "      <td>25</td>\n",
       "      <td>4</td>\n",
       "      <td>25</td>\n",
       "      <td>6</td>\n",
       "      <td>9</td>\n",
       "      <td>1140</td>\n",
       "      <td>DEL</td>\n",
       "      <td>LKO</td>\n",
       "      <td>BOM</td>\n",
       "      <td>COK</td>\n",
       "      <td>None</td>\n",
       "    </tr>\n",
       "    <tr>\n",
       "      <th>3</th>\n",
       "      <td>IndiGo</td>\n",
       "      <td>Kolkata</td>\n",
       "      <td>Banglore</td>\n",
       "      <td>1</td>\n",
       "      <td>No info</td>\n",
       "      <td>6218</td>\n",
       "      <td>18</td>\n",
       "      <td>5</td>\n",
       "      <td>23</td>\n",
       "      <td>30</td>\n",
       "      <td>5</td>\n",
       "      <td>12</td>\n",
       "      <td>325</td>\n",
       "      <td>CCU</td>\n",
       "      <td>NAG</td>\n",
       "      <td>BLR</td>\n",
       "      <td>None</td>\n",
       "      <td>None</td>\n",
       "    </tr>\n",
       "    <tr>\n",
       "      <th>4</th>\n",
       "      <td>IndiGo</td>\n",
       "      <td>Banglore</td>\n",
       "      <td>New Delhi</td>\n",
       "      <td>1</td>\n",
       "      <td>No info</td>\n",
       "      <td>13302</td>\n",
       "      <td>16</td>\n",
       "      <td>50</td>\n",
       "      <td>21</td>\n",
       "      <td>35</td>\n",
       "      <td>3</td>\n",
       "      <td>1</td>\n",
       "      <td>285</td>\n",
       "      <td>BLR</td>\n",
       "      <td>NAG</td>\n",
       "      <td>DEL</td>\n",
       "      <td>None</td>\n",
       "      <td>None</td>\n",
       "    </tr>\n",
       "  </tbody>\n",
       "</table>\n",
       "</div>"
      ],
      "text/plain": [
       "       Airline    Source Destination  Total_Stops Additional_Info  Price  \\\n",
       "0       IndiGo  Banglore   New Delhi            0         No info   3897   \n",
       "1    Air India   Kolkata    Banglore            2         No info   7662   \n",
       "2  Jet Airways     Delhi      Cochin            2         No info  13882   \n",
       "3       IndiGo   Kolkata    Banglore            1         No info   6218   \n",
       "4       IndiGo  Banglore   New Delhi            1         No info  13302   \n",
       "\n",
       "   Dep_Time_H  Dep_Time_M  Arrival_Time_H  Arrival_Time_M  Journey_Day  \\\n",
       "0          22          20               1              10           24   \n",
       "1           5          50              13              15            5   \n",
       "2           9          25               4              25            6   \n",
       "3          18           5              23              30            5   \n",
       "4          16          50              21              35            3   \n",
       "\n",
       "   Journey_Month  Total_Duration_in_min Route1 Route2 Route3 Route4 Route5  \n",
       "0              3                    170   BLR     DEL   None   None   None  \n",
       "1              1                    445   CCU    IXR    BBI     BLR   None  \n",
       "2              9                   1140   DEL    LKO    BOM     COK   None  \n",
       "3             12                    325   CCU    NAG     BLR   None   None  \n",
       "4              1                    285   BLR    NAG     DEL   None   None  "
      ]
     },
     "execution_count": 14,
     "metadata": {},
     "output_type": "execute_result"
    }
   ],
   "source": [
    "# Droping all object columns that I parsed for useful values for models.\n",
    "df_train.drop(['Date_of_Journey', 'Dep_Time', 'Arrival_Time', 'Duration', 'Route'], axis=1, inplace=True)\n",
    "df_train.head()"
   ]
  },
  {
   "cell_type": "code",
   "execution_count": 15,
   "metadata": {},
   "outputs": [
    {
     "data": {
      "text/plain": [
       "Airline                  object\n",
       "Source                   object\n",
       "Destination              object\n",
       "Total_Stops               int64\n",
       "Additional_Info          object\n",
       "Price                     int64\n",
       "Dep_Time_H                int64\n",
       "Dep_Time_M                int64\n",
       "Arrival_Time_H            int64\n",
       "Arrival_Time_M            int64\n",
       "Journey_Day               int64\n",
       "Journey_Month             int64\n",
       "Total_Duration_in_min     int64\n",
       "Route1                   object\n",
       "Route2                   object\n",
       "Route3                   object\n",
       "Route4                   object\n",
       "Route5                   object\n",
       "dtype: object"
      ]
     },
     "execution_count": 15,
     "metadata": {},
     "output_type": "execute_result"
    }
   ],
   "source": [
    "# Show data frame column type\n",
    "df_train.dtypes"
   ]
  },
  {
   "cell_type": "markdown",
   "metadata": {},
   "source": [
    "## Exploratory Data Analysis\n",
    "\n",
    "Explore numeric data for more information. Will analyze and investigate numeric data, summarize their main characteristics, by using visualization methods\n",
    "<dl>\n",
    "\n",
    "  <dd>Review of basic statistic</dd>\n",
    "  <dd>Plot Prices, Total Duration in minutes, Source</dd>\n",
    "  <dd>Investigate and manage outliers</dd>\n",
    "  <dd>Create the correlation matrix for numerical values</dd>\n",
    "</dl>\n"
   ]
  },
  {
   "cell_type": "code",
   "execution_count": 16,
   "metadata": {},
   "outputs": [
    {
     "data": {
      "text/html": [
       "<div>\n",
       "<style scoped>\n",
       "    .dataframe tbody tr th:only-of-type {\n",
       "        vertical-align: middle;\n",
       "    }\n",
       "\n",
       "    .dataframe tbody tr th {\n",
       "        vertical-align: top;\n",
       "    }\n",
       "\n",
       "    .dataframe thead th {\n",
       "        text-align: right;\n",
       "    }\n",
       "</style>\n",
       "<table border=\"1\" class=\"dataframe\">\n",
       "  <thead>\n",
       "    <tr style=\"text-align: right;\">\n",
       "      <th></th>\n",
       "      <th>count</th>\n",
       "      <th>mean</th>\n",
       "      <th>std</th>\n",
       "      <th>min</th>\n",
       "      <th>25%</th>\n",
       "      <th>50%</th>\n",
       "      <th>75%</th>\n",
       "      <th>max</th>\n",
       "    </tr>\n",
       "  </thead>\n",
       "  <tbody>\n",
       "    <tr>\n",
       "      <th>Total_Stops</th>\n",
       "      <td>10682.0</td>\n",
       "      <td>0.824190</td>\n",
       "      <td>0.675229</td>\n",
       "      <td>0.0</td>\n",
       "      <td>0.0</td>\n",
       "      <td>1.0</td>\n",
       "      <td>1.0</td>\n",
       "      <td>4.0</td>\n",
       "    </tr>\n",
       "    <tr>\n",
       "      <th>Price</th>\n",
       "      <td>10682.0</td>\n",
       "      <td>9087.214567</td>\n",
       "      <td>4611.548810</td>\n",
       "      <td>1759.0</td>\n",
       "      <td>5277.0</td>\n",
       "      <td>8372.0</td>\n",
       "      <td>12373.0</td>\n",
       "      <td>79512.0</td>\n",
       "    </tr>\n",
       "    <tr>\n",
       "      <th>Dep_Time_H</th>\n",
       "      <td>10682.0</td>\n",
       "      <td>12.491013</td>\n",
       "      <td>5.748820</td>\n",
       "      <td>0.0</td>\n",
       "      <td>8.0</td>\n",
       "      <td>11.0</td>\n",
       "      <td>18.0</td>\n",
       "      <td>23.0</td>\n",
       "    </tr>\n",
       "    <tr>\n",
       "      <th>Dep_Time_M</th>\n",
       "      <td>10682.0</td>\n",
       "      <td>24.409287</td>\n",
       "      <td>18.767801</td>\n",
       "      <td>0.0</td>\n",
       "      <td>5.0</td>\n",
       "      <td>25.0</td>\n",
       "      <td>40.0</td>\n",
       "      <td>55.0</td>\n",
       "    </tr>\n",
       "    <tr>\n",
       "      <th>Arrival_Time_H</th>\n",
       "      <td>10682.0</td>\n",
       "      <td>13.349186</td>\n",
       "      <td>6.859317</td>\n",
       "      <td>0.0</td>\n",
       "      <td>8.0</td>\n",
       "      <td>14.0</td>\n",
       "      <td>19.0</td>\n",
       "      <td>23.0</td>\n",
       "    </tr>\n",
       "    <tr>\n",
       "      <th>Arrival_Time_M</th>\n",
       "      <td>10682.0</td>\n",
       "      <td>24.690601</td>\n",
       "      <td>16.506808</td>\n",
       "      <td>0.0</td>\n",
       "      <td>10.0</td>\n",
       "      <td>25.0</td>\n",
       "      <td>35.0</td>\n",
       "      <td>55.0</td>\n",
       "    </tr>\n",
       "    <tr>\n",
       "      <th>Journey_Day</th>\n",
       "      <td>10682.0</td>\n",
       "      <td>12.682925</td>\n",
       "      <td>8.803800</td>\n",
       "      <td>3.0</td>\n",
       "      <td>5.0</td>\n",
       "      <td>6.0</td>\n",
       "      <td>21.0</td>\n",
       "      <td>27.0</td>\n",
       "    </tr>\n",
       "    <tr>\n",
       "      <th>Journey_Month</th>\n",
       "      <td>10682.0</td>\n",
       "      <td>5.534731</td>\n",
       "      <td>2.987626</td>\n",
       "      <td>1.0</td>\n",
       "      <td>3.0</td>\n",
       "      <td>5.0</td>\n",
       "      <td>6.0</td>\n",
       "      <td>12.0</td>\n",
       "    </tr>\n",
       "    <tr>\n",
       "      <th>Total_Duration_in_min</th>\n",
       "      <td>10682.0</td>\n",
       "      <td>643.020502</td>\n",
       "      <td>507.830133</td>\n",
       "      <td>5.0</td>\n",
       "      <td>170.0</td>\n",
       "      <td>520.0</td>\n",
       "      <td>930.0</td>\n",
       "      <td>2860.0</td>\n",
       "    </tr>\n",
       "  </tbody>\n",
       "</table>\n",
       "</div>"
      ],
      "text/plain": [
       "                         count         mean          std     min     25%  \\\n",
       "Total_Stops            10682.0     0.824190     0.675229     0.0     0.0   \n",
       "Price                  10682.0  9087.214567  4611.548810  1759.0  5277.0   \n",
       "Dep_Time_H             10682.0    12.491013     5.748820     0.0     8.0   \n",
       "Dep_Time_M             10682.0    24.409287    18.767801     0.0     5.0   \n",
       "Arrival_Time_H         10682.0    13.349186     6.859317     0.0     8.0   \n",
       "Arrival_Time_M         10682.0    24.690601    16.506808     0.0    10.0   \n",
       "Journey_Day            10682.0    12.682925     8.803800     3.0     5.0   \n",
       "Journey_Month          10682.0     5.534731     2.987626     1.0     3.0   \n",
       "Total_Duration_in_min  10682.0   643.020502   507.830133     5.0   170.0   \n",
       "\n",
       "                          50%      75%      max  \n",
       "Total_Stops               1.0      1.0      4.0  \n",
       "Price                  8372.0  12373.0  79512.0  \n",
       "Dep_Time_H               11.0     18.0     23.0  \n",
       "Dep_Time_M               25.0     40.0     55.0  \n",
       "Arrival_Time_H           14.0     19.0     23.0  \n",
       "Arrival_Time_M           25.0     35.0     55.0  \n",
       "Journey_Day               6.0     21.0     27.0  \n",
       "Journey_Month             5.0      6.0     12.0  \n",
       "Total_Duration_in_min   520.0    930.0   2860.0  "
      ]
     },
     "execution_count": 16,
     "metadata": {},
     "output_type": "execute_result"
    }
   ],
   "source": [
    "# Review of basisc statistic for numerical columns.\n",
    "df_train.describe().T\n"
   ]
  },
  {
   "cell_type": "markdown",
   "metadata": {},
   "source": [
    "The prices column have quite a wide range of values from min 1759 to max 79512. This might be caused by some outliers. Also, the Total Duration Time in minutes has quite a large range between 170 to 2860 minutes. Let's investigate potential outliers further."
   ]
  },
  {
   "cell_type": "code",
   "execution_count": 17,
   "metadata": {},
   "outputs": [
    {
     "data": {
      "image/png": "[encoded data removed]",
      "text/plain": [
       "<Figure size 432x288 with 2 Axes>"
      ]
     },
     "metadata": {
      "needs_background": "light"
     },
     "output_type": "display_data"
    }
   ],
   "source": [
    "# Function that will plot subplot distribution and box plot for Price\n",
    "def plot(data, col):\n",
    "    fig,(ax1,ax2)=plt.subplots(2, 1)\n",
    "    sns.distplot(data[col],ax=ax1)\n",
    "    sns.boxplot(data[col],ax=ax2)\n",
    "    \n",
    "# Call funcition on Data Frame column price\n",
    "plot(df_train, 'Price')"
   ]
  },
  {
   "cell_type": "code",
   "execution_count": 18,
   "metadata": {},
   "outputs": [
    {
     "name": "stdout",
     "output_type": "stream",
     "text": [
      "The number of outliers is: 9\n"
     ]
    },
    {
     "data": {
      "text/html": [
       "<div>\n",
       "<style scoped>\n",
       "    .dataframe tbody tr th:only-of-type {\n",
       "        vertical-align: middle;\n",
       "    }\n",
       "\n",
       "    .dataframe tbody tr th {\n",
       "        vertical-align: top;\n",
       "    }\n",
       "\n",
       "    .dataframe thead th {\n",
       "        text-align: right;\n",
       "    }\n",
       "</style>\n",
       "<table border=\"1\" class=\"dataframe\">\n",
       "  <thead>\n",
       "    <tr style=\"text-align: right;\">\n",
       "      <th></th>\n",
       "      <th>Price</th>\n",
       "    </tr>\n",
       "    <tr>\n",
       "      <th>Airline</th>\n",
       "      <th></th>\n",
       "    </tr>\n",
       "  </thead>\n",
       "  <tbody>\n",
       "    <tr>\n",
       "      <th>Jet Airways</th>\n",
       "      <td>54826.000000</td>\n",
       "    </tr>\n",
       "    <tr>\n",
       "      <th>Jet Airways Business</th>\n",
       "      <td>58358.666667</td>\n",
       "    </tr>\n",
       "  </tbody>\n",
       "</table>\n",
       "</div>"
      ],
      "text/plain": [
       "                             Price\n",
       "Airline                           \n",
       "Jet Airways           54826.000000\n",
       "Jet Airways Business  58358.666667"
      ]
     },
     "execution_count": 18,
     "metadata": {},
     "output_type": "execute_result"
    }
   ],
   "source": [
    "# Investigate price outliers above 40000 rupias.\n",
    "outliers_price = df_train[df_train['Price'] > 40000]\n",
    "print('The number of outliers is:',outliers_price['Price'].count())\n",
    "outliers_price.pivot_table(values='Price', index='Airline')\n"
   ]
  },
  {
   "cell_type": "markdown",
   "metadata": {},
   "source": [
    "Most Airlines average prices are close to the total average of 9k for all airlines. The Jet Airways Business seems to include business class tickets as its median is 58k. The Data Frame is not representing business ticket price as it's only 9 lines. Statistical models will not be able to predict this class ticket correctly(small sample). I'm going to drop outliers price lines."
   ]
  },
  {
   "cell_type": "code",
   "execution_count": 19,
   "metadata": {},
   "outputs": [
    {
     "data": {
      "text/plain": [
       "(10673, 18)"
      ]
     },
     "execution_count": 19,
     "metadata": {},
     "output_type": "execute_result"
    }
   ],
   "source": [
    "# Drop price outliers \n",
    "new_df=df_train[~df_train.isin(outliers_price)].dropna(how = 'all')\n",
    "df_train = new_df\n",
    "df_train.shape"
   ]
  },
  {
   "cell_type": "code",
   "execution_count": 20,
   "metadata": {},
   "outputs": [
    {
     "data": {
      "text/plain": [
       "<seaborn.axisgrid.FacetGrid at 0x251848faa60>"
      ]
     },
     "execution_count": 20,
     "metadata": {},
     "output_type": "execute_result"
    },
    {
     "data": {
      "image/png": "[encoded data removed]",
      "text/plain": [
       "<Figure size 360x360 with 1 Axes>"
      ]
     },
     "metadata": {
      "needs_background": "light"
     },
     "output_type": "display_data"
    }
   ],
   "source": [
    "# Plot Airlines price after dropping outliers.\n",
    "sns.catplot(data=df_train.sort_values('Price',ascending=False), x='Price', y='Airline', kind='boxen',  palette=\"Set1\")"
   ]
  },
  {
   "cell_type": "code",
   "execution_count": 21,
   "metadata": {},
   "outputs": [
    {
     "data": {
      "image/png": "[encoded data removed]",
      "text/plain": [
       "<Figure size 432x288 with 2 Axes>"
      ]
     },
     "metadata": {
      "needs_background": "light"
     },
     "output_type": "display_data"
    }
   ],
   "source": [
    "# Plot distribution and boxplot for Total duration in minutes.\n",
    "plot(df_train, 'Total_Duration_in_min')"
   ]
  },
  {
   "cell_type": "code",
   "execution_count": 22,
   "metadata": {},
   "outputs": [
    {
     "name": "stdout",
     "output_type": "stream",
     "text": [
      "The number of outliers is: 82\n"
     ]
    },
    {
     "data": {
      "text/html": [
       "<div>\n",
       "<style scoped>\n",
       "    .dataframe tbody tr th:only-of-type {\n",
       "        vertical-align: middle;\n",
       "    }\n",
       "\n",
       "    .dataframe tbody tr th {\n",
       "        vertical-align: top;\n",
       "    }\n",
       "\n",
       "    .dataframe thead th {\n",
       "        text-align: right;\n",
       "    }\n",
       "</style>\n",
       "<table border=\"1\" class=\"dataframe\">\n",
       "  <thead>\n",
       "    <tr style=\"text-align: right;\">\n",
       "      <th></th>\n",
       "      <th></th>\n",
       "      <th></th>\n",
       "      <th>Price</th>\n",
       "      <th>Total_Duration_in_min</th>\n",
       "      <th>Total_Stops</th>\n",
       "    </tr>\n",
       "    <tr>\n",
       "      <th>Airline</th>\n",
       "      <th>Source</th>\n",
       "      <th>Destination</th>\n",
       "      <th></th>\n",
       "      <th></th>\n",
       "      <th></th>\n",
       "    </tr>\n",
       "  </thead>\n",
       "  <tbody>\n",
       "    <tr>\n",
       "      <th rowspan=\"4\" valign=\"top\">Air India</th>\n",
       "      <th>Banglore</th>\n",
       "      <th>New Delhi</th>\n",
       "      <td>14139.600000</td>\n",
       "      <td>2220.000000</td>\n",
       "      <td>2.100000</td>\n",
       "    </tr>\n",
       "    <tr>\n",
       "      <th>Delhi</th>\n",
       "      <th>Cochin</th>\n",
       "      <td>10673.324324</td>\n",
       "      <td>2257.567568</td>\n",
       "      <td>2.351351</td>\n",
       "    </tr>\n",
       "    <tr>\n",
       "      <th>Kolkata</th>\n",
       "      <th>Banglore</th>\n",
       "      <td>12887.666667</td>\n",
       "      <td>2180.833333</td>\n",
       "      <td>2.333333</td>\n",
       "    </tr>\n",
       "    <tr>\n",
       "      <th>Mumbai</th>\n",
       "      <th>Hyderabad</th>\n",
       "      <td>13011.500000</td>\n",
       "      <td>2245.000000</td>\n",
       "      <td>2.000000</td>\n",
       "    </tr>\n",
       "    <tr>\n",
       "      <th>Jet Airways</th>\n",
       "      <th>Delhi</th>\n",
       "      <th>Cochin</th>\n",
       "      <td>14697.000000</td>\n",
       "      <td>2280.555556</td>\n",
       "      <td>2.000000</td>\n",
       "    </tr>\n",
       "  </tbody>\n",
       "</table>\n",
       "</div>"
      ],
      "text/plain": [
       "                                         Price  Total_Duration_in_min  \\\n",
       "Airline     Source   Destination                                        \n",
       "Air India   Banglore New Delhi    14139.600000            2220.000000   \n",
       "            Delhi    Cochin       10673.324324            2257.567568   \n",
       "            Kolkata  Banglore     12887.666667            2180.833333   \n",
       "            Mumbai   Hyderabad    13011.500000            2245.000000   \n",
       "Jet Airways Delhi    Cochin       14697.000000            2280.555556   \n",
       "\n",
       "                                  Total_Stops  \n",
       "Airline     Source   Destination               \n",
       "Air India   Banglore New Delhi       2.100000  \n",
       "            Delhi    Cochin          2.351351  \n",
       "            Kolkata  Banglore        2.333333  \n",
       "            Mumbai   Hyderabad       2.000000  \n",
       "Jet Airways Delhi    Cochin          2.000000  "
      ]
     },
     "execution_count": 22,
     "metadata": {},
     "output_type": "execute_result"
    }
   ],
   "source": [
    "# Investigate Total duration in minutes outliers\n",
    "outliers_time = df_train[df_train['Total_Duration_in_min'] > 2000]\n",
    "print('The number of outliers is:',outliers_time['Total_Duration_in_min'].count())\n",
    "outliers_time.pivot_table(values=['Total_Duration_in_min', 'Total_Stops', 'Price'], index=['Airline', 'Source', 'Destination'])\n"
   ]
  },
  {
   "cell_type": "code",
   "execution_count": 23,
   "metadata": {},
   "outputs": [
    {
     "name": "stdout",
     "output_type": "stream",
     "text": [
      "The average total price:    9046.66\n",
      "The average outliers price: 12639.96\n"
     ]
    }
   ],
   "source": [
    "# Arithmetic mean for price \n",
    "print('The average total price:   ', round(df_train['Price'].mean(), 2))\n",
    "print('The average outliers price:', round(outliers_time['Price'].mean(),2))\n"
   ]
  },
  {
   "cell_type": "markdown",
   "metadata": {},
   "source": [
    "We have 82 flights where the duration time is above 2000 minutes - 33 hours. All those flights have 2 or more stopovers. The average time outliers price is a bit higher (12.6k) than to mean price(9k) for all flights. I'm going to keep those data unchanged as more stopovers affect the price by 38%."
   ]
  },
  {
   "cell_type": "code",
   "execution_count": 24,
   "metadata": {},
   "outputs": [
    {
     "data": {
      "text/plain": [
       "<seaborn.axisgrid.FacetGrid at 0x251843aba60>"
      ]
     },
     "execution_count": 24,
     "metadata": {},
     "output_type": "execute_result"
    },
    {
     "data": {
      "text/plain": [
       "<Figure size 1080x1080 with 0 Axes>"
      ]
     },
     "metadata": {},
     "output_type": "display_data"
    },
    {
     "data": {
      "image/png": "[encoded data removed]",
      "text/plain": [
       "<Figure size 360x360 with 1 Axes>"
      ]
     },
     "metadata": {
      "needs_background": "light"
     },
     "output_type": "display_data"
    }
   ],
   "source": [
    "# Plot Departure airport price\n",
    "\n",
    "plt.figure(figsize=(15,15))\n",
    "\n",
    "sns.catplot(x='Price', y='Source',data=df_train.sort_values('Price',ascending=False), kind='boxen', palette=\"Set1\")\n"
   ]
  },
  {
   "cell_type": "code",
   "execution_count": 64,
   "metadata": {
    "scrolled": true
   },
   "outputs": [
    {
     "data": {
      "image/png": "[encoded data removed]",
      "text/plain": [
       "<Figure size 432x288 with 1 Axes>"
      ]
     },
     "metadata": {
      "needs_background": "light"
     },
     "output_type": "display_data"
    },
    {
     "data": {
      "text/plain": [
       "Delhi       4534\n",
       "Kolkata     2871\n",
       "Banglore    2190\n",
       "Mumbai       697\n",
       "Chennai      381\n",
       "Name: Source, dtype: int64"
      ]
     },
     "execution_count": 64,
     "metadata": {},
     "output_type": "execute_result"
    }
   ],
   "source": [
    "# Plot the count of Source \n",
    "sns.countplot(x=df_train['Source'], hue=df_train['Source'], palette=\"Set1\")\n",
    "plt.show()\n",
    "df_train['Source'].value_counts()"
   ]
  },
  {
   "cell_type": "markdown",
   "metadata": {},
   "source": [
    "According to Source plots for Delhi and Kolkata average price is higher than for other Airports. Those two ariports represent 7405 lines (69%)of data."
   ]
  },
  {
   "cell_type": "code",
   "execution_count": 26,
   "metadata": {},
   "outputs": [
    {
     "data": {
      "image/png": "[encoded data removed]",
      "text/plain": [
       "<Figure size 432x288 with 2 Axes>"
      ]
     },
     "metadata": {
      "needs_background": "light"
     },
     "output_type": "display_data"
    }
   ],
   "source": [
    "# Create the correlation matrix for numerical values in DF.\n",
    "corr = df_train.corr()\n",
    "\n",
    "# Generate a mask for the upper triangle \n",
    "mask = np.triu(np.ones_like(corr, dtype=bool)) # - mask reduce duplication on chart its more readable\n",
    "\n",
    "# Add the mask to the heatmap\n",
    "sns.heatmap(corr, mask=mask, center=0, linewidths=1, cmap=\"YlGnBu\", annot=True, fmt=\".2f\")\n",
    "plt.show()"
   ]
  },
  {
   "cell_type": "markdown",
   "metadata": {},
   "source": [
    "Correlation Matrix is giving a good infication that Total Duration in minutes(51%), Jurney Day(17%), Arrival time(9%) are good price indicators. Those 3 varlables correlate with price in 77%.\n",
    "     "
   ]
  },
  {
   "cell_type": "markdown",
   "metadata": {},
   "source": [
    "### Handling categorical data\n",
    "\n",
    "As sklearn models require all data to be numeric or vector values. The categorical data need to be transformed.\n",
    "<dl>\n",
    "  <dd>Nominal data are informative that needs to be changed to dummy variables.</dd>\n",
    "  <dd>Ordinal Data are for categories with an inherent order were retaining the order is important. </dd>\n",
    "</dl>\n",
    "\n",
    "<dl>\n",
    "  <dd>One hot encoding metod for nominal columns:</dd>\n",
    "  <dd>Airline, Source, Destination, Additional_Info </dd>\n",
    "  <dd> </dd>\n",
    "  <dd>Label Encoding etod for ordinal columns:</dd> \n",
    "  <dd>Route1, Route2, Route3, Route4, Route5:</dd>\n",
    "  \n",
    "</dl>"
   ]
  },
  {
   "cell_type": "code",
   "execution_count": 27,
   "metadata": {},
   "outputs": [
    {
     "data": {
      "text/html": [
       "<div>\n",
       "<style scoped>\n",
       "    .dataframe tbody tr th:only-of-type {\n",
       "        vertical-align: middle;\n",
       "    }\n",
       "\n",
       "    .dataframe tbody tr th {\n",
       "        vertical-align: top;\n",
       "    }\n",
       "\n",
       "    .dataframe thead th {\n",
       "        text-align: right;\n",
       "    }\n",
       "</style>\n",
       "<table border=\"1\" class=\"dataframe\">\n",
       "  <thead>\n",
       "    <tr style=\"text-align: right;\">\n",
       "      <th></th>\n",
       "      <th>Airline</th>\n",
       "      <th>Source</th>\n",
       "      <th>Destination</th>\n",
       "      <th>Additional_Info</th>\n",
       "      <th>Route1</th>\n",
       "      <th>Route2</th>\n",
       "      <th>Route3</th>\n",
       "      <th>Route4</th>\n",
       "      <th>Route5</th>\n",
       "    </tr>\n",
       "  </thead>\n",
       "  <tbody>\n",
       "    <tr>\n",
       "      <th>0</th>\n",
       "      <td>IndiGo</td>\n",
       "      <td>Banglore</td>\n",
       "      <td>New Delhi</td>\n",
       "      <td>No info</td>\n",
       "      <td>BLR</td>\n",
       "      <td>DEL</td>\n",
       "      <td>None</td>\n",
       "      <td>None</td>\n",
       "      <td>None</td>\n",
       "    </tr>\n",
       "    <tr>\n",
       "      <th>1</th>\n",
       "      <td>Air India</td>\n",
       "      <td>Kolkata</td>\n",
       "      <td>Banglore</td>\n",
       "      <td>No info</td>\n",
       "      <td>CCU</td>\n",
       "      <td>IXR</td>\n",
       "      <td>BBI</td>\n",
       "      <td>BLR</td>\n",
       "      <td>None</td>\n",
       "    </tr>\n",
       "    <tr>\n",
       "      <th>2</th>\n",
       "      <td>Jet Airways</td>\n",
       "      <td>Delhi</td>\n",
       "      <td>Cochin</td>\n",
       "      <td>No info</td>\n",
       "      <td>DEL</td>\n",
       "      <td>LKO</td>\n",
       "      <td>BOM</td>\n",
       "      <td>COK</td>\n",
       "      <td>None</td>\n",
       "    </tr>\n",
       "  </tbody>\n",
       "</table>\n",
       "</div>"
      ],
      "text/plain": [
       "       Airline    Source Destination Additional_Info Route1 Route2 Route3  \\\n",
       "0       IndiGo  Banglore   New Delhi         No info   BLR     DEL   None   \n",
       "1    Air India   Kolkata    Banglore         No info   CCU    IXR    BBI    \n",
       "2  Jet Airways     Delhi      Cochin         No info   DEL    LKO    BOM    \n",
       "\n",
       "  Route4 Route5  \n",
       "0   None   None  \n",
       "1    BLR   None  \n",
       "2    COK   None  "
      ]
     },
     "execution_count": 27,
     "metadata": {},
     "output_type": "execute_result"
    }
   ],
   "source": [
    "# Spliting data train for numerical and categorical to handle categorical data.\n",
    "numeric_data = df_train.select_dtypes(include=[np.number])\n",
    "categorical_data = df_train.select_dtypes(exclude=[np.number])\n",
    "\n",
    "# Show categorical data.\n",
    "categorical_data.head(3)"
   ]
  },
  {
   "cell_type": "code",
   "execution_count": 28,
   "metadata": {},
   "outputs": [
    {
     "data": {
      "text/html": [
       "<div>\n",
       "<style scoped>\n",
       "    .dataframe tbody tr th:only-of-type {\n",
       "        vertical-align: middle;\n",
       "    }\n",
       "\n",
       "    .dataframe tbody tr th {\n",
       "        vertical-align: top;\n",
       "    }\n",
       "\n",
       "    .dataframe thead th {\n",
       "        text-align: right;\n",
       "    }\n",
       "</style>\n",
       "<table border=\"1\" class=\"dataframe\">\n",
       "  <thead>\n",
       "    <tr style=\"text-align: right;\">\n",
       "      <th></th>\n",
       "      <th>Airline</th>\n",
       "      <th>Source</th>\n",
       "      <th>Destination</th>\n",
       "      <th>Additional_Info</th>\n",
       "    </tr>\n",
       "  </thead>\n",
       "  <tbody>\n",
       "    <tr>\n",
       "      <th>0</th>\n",
       "      <td>IndiGo</td>\n",
       "      <td>Banglore</td>\n",
       "      <td>New Delhi</td>\n",
       "      <td>No info</td>\n",
       "    </tr>\n",
       "    <tr>\n",
       "      <th>1</th>\n",
       "      <td>Air India</td>\n",
       "      <td>Kolkata</td>\n",
       "      <td>Banglore</td>\n",
       "      <td>No info</td>\n",
       "    </tr>\n",
       "    <tr>\n",
       "      <th>2</th>\n",
       "      <td>Jet Airways</td>\n",
       "      <td>Delhi</td>\n",
       "      <td>Cochin</td>\n",
       "      <td>No info</td>\n",
       "    </tr>\n",
       "  </tbody>\n",
       "</table>\n",
       "</div>"
      ],
      "text/plain": [
       "       Airline    Source Destination Additional_Info\n",
       "0       IndiGo  Banglore   New Delhi         No info\n",
       "1    Air India   Kolkata    Banglore         No info\n",
       "2  Jet Airways     Delhi      Cochin         No info"
      ]
     },
     "execution_count": 28,
     "metadata": {},
     "output_type": "execute_result"
    }
   ],
   "source": [
    "# Onehot encoding for variables without quantitative value.\n",
    "labels = ['Route1', 'Route2', 'Route3', 'Route4', 'Route5']\n",
    "ohe_categorical = categorical_data.drop(labels=labels, axis=1)\n",
    "ohe_categorical.head(3)"
   ]
  },
  {
   "cell_type": "code",
   "execution_count": 29,
   "metadata": {},
   "outputs": [
    {
     "name": "stdout",
     "output_type": "stream",
     "text": [
      "Number of columns for dummies variables: 28\n"
     ]
    },
    {
     "data": {
      "text/plain": [
       "Index(['Airline_Air India', 'Airline_GoAir', 'Airline_IndiGo',\n",
       "       'Airline_Jet Airways', 'Airline_Multiple carriers',\n",
       "       'Airline_Multiple carriers Premium economy', 'Airline_SpiceJet',\n",
       "       'Airline_Trujet', 'Airline_Vistara', 'Airline_Vistara Premium economy',\n",
       "       'Source_Chennai', 'Source_Delhi', 'Source_Kolkata', 'Source_Mumbai',\n",
       "       'Destination_Cochin', 'Destination_Delhi', 'Destination_Hyderabad',\n",
       "       'Destination_Kolkata', 'Destination_New Delhi',\n",
       "       'Additional_Info_1 Short layover', 'Additional_Info_2 Long layover',\n",
       "       'Additional_Info_Business class', 'Additional_Info_Change airports',\n",
       "       'Additional_Info_In-flight meal not included',\n",
       "       'Additional_Info_No Info',\n",
       "       'Additional_Info_No check-in baggage included',\n",
       "       'Additional_Info_No info', 'Additional_Info_Red-eye flight'],\n",
       "      dtype='object')"
      ]
     },
     "execution_count": 29,
     "metadata": {},
     "output_type": "execute_result"
    }
   ],
   "source": [
    "# Create dummies variables for nonquantitive values\n",
    "categorical_dumm =pd.get_dummies(ohe_categorical, drop_first=True)\n",
    "print('Number of columns for dummies variables:', categorical_dumm.shape[1])\n",
    "categorical_dumm.columns"
   ]
  },
  {
   "cell_type": "code",
   "execution_count": 30,
   "metadata": {},
   "outputs": [
    {
     "data": {
      "text/html": [
       "<div>\n",
       "<style scoped>\n",
       "    .dataframe tbody tr th:only-of-type {\n",
       "        vertical-align: middle;\n",
       "    }\n",
       "\n",
       "    .dataframe tbody tr th {\n",
       "        vertical-align: top;\n",
       "    }\n",
       "\n",
       "    .dataframe thead th {\n",
       "        text-align: right;\n",
       "    }\n",
       "</style>\n",
       "<table border=\"1\" class=\"dataframe\">\n",
       "  <thead>\n",
       "    <tr style=\"text-align: right;\">\n",
       "      <th></th>\n",
       "      <th>Route1</th>\n",
       "      <th>Route2</th>\n",
       "      <th>Route3</th>\n",
       "      <th>Route4</th>\n",
       "      <th>Route5</th>\n",
       "    </tr>\n",
       "  </thead>\n",
       "  <tbody>\n",
       "    <tr>\n",
       "      <th>0</th>\n",
       "      <td>BLR</td>\n",
       "      <td>DEL</td>\n",
       "      <td>None</td>\n",
       "      <td>None</td>\n",
       "      <td>None</td>\n",
       "    </tr>\n",
       "    <tr>\n",
       "      <th>1</th>\n",
       "      <td>CCU</td>\n",
       "      <td>IXR</td>\n",
       "      <td>BBI</td>\n",
       "      <td>BLR</td>\n",
       "      <td>None</td>\n",
       "    </tr>\n",
       "    <tr>\n",
       "      <th>2</th>\n",
       "      <td>DEL</td>\n",
       "      <td>LKO</td>\n",
       "      <td>BOM</td>\n",
       "      <td>COK</td>\n",
       "      <td>None</td>\n",
       "    </tr>\n",
       "  </tbody>\n",
       "</table>\n",
       "</div>"
      ],
      "text/plain": [
       "  Route1 Route2 Route3 Route4 Route5\n",
       "0   BLR     DEL   None   None   None\n",
       "1   CCU    IXR    BBI     BLR   None\n",
       "2   DEL    LKO    BOM     COK   None"
      ]
     },
     "execution_count": 30,
     "metadata": {},
     "output_type": "execute_result"
    }
   ],
   "source": [
    "# Create data frame for Routes variables.\n",
    "le_categorical = categorical_data.drop(ohe_categorical, axis=1)\n",
    "le_categorical.head(3)"
   ]
  },
  {
   "cell_type": "code",
   "execution_count": 31,
   "metadata": {},
   "outputs": [
    {
     "name": "stdout",
     "output_type": "stream",
     "text": [
      "  Route1 Route2 Route3 Route4 Route5\n",
      "0   BLR     DEL   None   None   None\n",
      "1   CCU    IXR    BBI     BLR   None\n",
      "2   DEL    LKO    BOM     COK   None\n",
      "3   CCU    NAG     BLR   None   None\n",
      "4   BLR    NAG     DEL   None   None\n",
      "   Route1  Route2  Route3  Route4  Route5\n",
      "0       0      13      29      13       5\n",
      "1       2      25       1       3       5\n",
      "2       3      32       4       5       5\n",
      "3       2      34       3      13       5\n",
      "4       0      34       8      13       5\n"
     ]
    }
   ],
   "source": [
    "# Convert Routes variables by using Label Encoder\n",
    "\n",
    "# Import LabelEncoder\n",
    "from sklearn.preprocessing import LabelEncoder\n",
    "\n",
    "# Create a boolean mask for categorical variables\n",
    "categorical_mask = (le_categorical.dtypes == 'object')\n",
    "\n",
    "# Get list of route variables column names\n",
    "route_columns = le_categorical.columns[categorical_mask].tolist()\n",
    "\n",
    "# Print the head of the categorical columns\n",
    "print(le_categorical[route_columns].head())\n",
    "\n",
    "# Create LabelEncoder object: le\n",
    "le = LabelEncoder()\n",
    "\n",
    "# Apply LabelEncoder to categorical columns\n",
    "le_categorical[route_columns] = le_categorical[route_columns].apply(lambda x: le.fit_transform(x))\n",
    "\n",
    "# Print the head of the LabelEncoded categorical columns\n",
    "print(le_categorical[route_columns].head())"
   ]
  },
  {
   "cell_type": "code",
   "execution_count": 32,
   "metadata": {},
   "outputs": [],
   "source": [
    "# Join categorical and numerical varables in one Data frame. \n",
    "\n",
    "final_df = pd.concat([numeric_data, categorical_dumm, le_categorical[route_columns]],axis=1)"
   ]
  },
  {
   "cell_type": "code",
   "execution_count": 33,
   "metadata": {
    "scrolled": true
   },
   "outputs": [
    {
     "name": "stdout",
     "output_type": "stream",
     "text": [
      "Number of columns in final Data frame 42\n"
     ]
    },
    {
     "data": {
      "text/plain": [
       "Index(['Total_Stops', 'Price', 'Dep_Time_H', 'Dep_Time_M', 'Arrival_Time_H',\n",
       "       'Arrival_Time_M', 'Journey_Day', 'Journey_Month',\n",
       "       'Total_Duration_in_min', 'Airline_Air India', 'Airline_GoAir',\n",
       "       'Airline_IndiGo', 'Airline_Jet Airways', 'Airline_Multiple carriers',\n",
       "       'Airline_Multiple carriers Premium economy', 'Airline_SpiceJet',\n",
       "       'Airline_Trujet', 'Airline_Vistara', 'Airline_Vistara Premium economy',\n",
       "       'Source_Chennai', 'Source_Delhi', 'Source_Kolkata', 'Source_Mumbai',\n",
       "       'Destination_Cochin', 'Destination_Delhi', 'Destination_Hyderabad',\n",
       "       'Destination_Kolkata', 'Destination_New Delhi',\n",
       "       'Additional_Info_1 Short layover', 'Additional_Info_2 Long layover',\n",
       "       'Additional_Info_Business class', 'Additional_Info_Change airports',\n",
       "       'Additional_Info_In-flight meal not included',\n",
       "       'Additional_Info_No Info',\n",
       "       'Additional_Info_No check-in baggage included',\n",
       "       'Additional_Info_No info', 'Additional_Info_Red-eye flight', 'Route1',\n",
       "       'Route2', 'Route3', 'Route4', 'Route5'],\n",
       "      dtype='object')"
      ]
     },
     "execution_count": 33,
     "metadata": {},
     "output_type": "execute_result"
    }
   ],
   "source": [
    "# List of final columns.\n",
    "print('Number of columns in final Data frame', final_df.shape[1])\n",
    "final_df.columns"
   ]
  },
  {
   "cell_type": "code",
   "execution_count": 34,
   "metadata": {},
   "outputs": [],
   "source": [
    "# Separate Price targed value from variable\n",
    "X=final_df.drop('Price',axis=1)\n",
    "y=final_df['Price']"
   ]
  },
  {
   "cell_type": "markdown",
   "metadata": {},
   "source": [
    "## Feature Selection\n",
    "Preprocessing and Features Engineering delivered 42 columns. The orginal data have only 11. To avid probleem with high demontionalyty I will use Sklearn features extraction method Mutual_info_classif \n",
    "This method basically utilize the mutual information. It calculates mutual information value for each of independent variables with respect to dependent variable, and selects the ones which has most information gain. In other words, it basically measures the dependency of features with the target value. The higher score means more dependent variables."
   ]
  },
  {
   "cell_type": "code",
   "execution_count": 35,
   "metadata": {},
   "outputs": [],
   "source": [
    "# Import method from sklearn\n",
    "from sklearn.feature_selection import mutual_info_classif"
   ]
  },
  {
   "cell_type": "code",
   "execution_count": 36,
   "metadata": {},
   "outputs": [
    {
     "data": {
      "text/plain": [
       "array([2.12601329e+00, 1.42728549e+00, 1.19212176e+00, 1.87250907e+00,\n",
       "       1.52126831e+00, 1.07195512e+00, 8.62216722e-01, 2.37995598e+00,\n",
       "       7.46643951e-01, 1.00964908e-01, 6.72428102e-01, 9.09278922e-01,\n",
       "       5.63184960e-01, 2.07848440e-02, 3.16352658e-01, 0.00000000e+00,\n",
       "       2.20749702e-01, 7.40206051e-03, 1.68618782e-01, 1.54966340e+00,\n",
       "       8.83901062e-01, 2.89696629e-01, 1.57096143e+00, 4.04162250e-01,\n",
       "       2.82655816e-01, 1.76158525e-01, 3.60452279e-01, 0.00000000e+00,\n",
       "       0.00000000e+00, 0.00000000e+00, 1.25926924e-02, 6.18949240e-01,\n",
       "       0.00000000e+00, 1.50392055e-01, 2.02233060e+00, 1.36949845e-03,\n",
       "       2.07289056e+00, 2.77364370e+00, 2.29418589e+00, 1.51681301e+00,\n",
       "       7.96305743e-01])"
      ]
     },
     "execution_count": 36,
     "metadata": {},
     "output_type": "execute_result"
    }
   ],
   "source": [
    "# Apply to independent variables x and dependent variable y.\n",
    "mutual_info_classif(X,y)"
   ]
  },
  {
   "cell_type": "code",
   "execution_count": 37,
   "metadata": {},
   "outputs": [
    {
     "data": {
      "text/html": [
       "<div>\n",
       "<style scoped>\n",
       "    .dataframe tbody tr th:only-of-type {\n",
       "        vertical-align: middle;\n",
       "    }\n",
       "\n",
       "    .dataframe tbody tr th {\n",
       "        vertical-align: top;\n",
       "    }\n",
       "\n",
       "    .dataframe thead th {\n",
       "        text-align: right;\n",
       "    }\n",
       "</style>\n",
       "<table border=\"1\" class=\"dataframe\">\n",
       "  <thead>\n",
       "    <tr style=\"text-align: right;\">\n",
       "      <th></th>\n",
       "      <th>importance</th>\n",
       "    </tr>\n",
       "  </thead>\n",
       "  <tbody>\n",
       "    <tr>\n",
       "      <th>Route2</th>\n",
       "      <td>2.736324</td>\n",
       "    </tr>\n",
       "    <tr>\n",
       "      <th>Total_Duration_in_min</th>\n",
       "      <td>2.378163</td>\n",
       "    </tr>\n",
       "    <tr>\n",
       "      <th>Route3</th>\n",
       "      <td>2.307749</td>\n",
       "    </tr>\n",
       "    <tr>\n",
       "      <th>Total_Stops</th>\n",
       "      <td>2.103406</td>\n",
       "    </tr>\n",
       "    <tr>\n",
       "      <th>Route1</th>\n",
       "      <td>2.035982</td>\n",
       "    </tr>\n",
       "    <tr>\n",
       "      <th>Additional_Info_No info</th>\n",
       "      <td>1.982108</td>\n",
       "    </tr>\n",
       "    <tr>\n",
       "      <th>Arrival_Time_H</th>\n",
       "      <td>1.874335</td>\n",
       "    </tr>\n",
       "    <tr>\n",
       "      <th>Source_Delhi</th>\n",
       "      <td>1.541531</td>\n",
       "    </tr>\n",
       "    <tr>\n",
       "      <th>Destination_Cochin</th>\n",
       "      <td>1.516429</td>\n",
       "    </tr>\n",
       "    <tr>\n",
       "      <th>Arrival_Time_M</th>\n",
       "      <td>1.511719</td>\n",
       "    </tr>\n",
       "    <tr>\n",
       "      <th>Route4</th>\n",
       "      <td>1.425045</td>\n",
       "    </tr>\n",
       "    <tr>\n",
       "      <th>Dep_Time_H</th>\n",
       "      <td>1.420322</td>\n",
       "    </tr>\n",
       "    <tr>\n",
       "      <th>Dep_Time_M</th>\n",
       "      <td>1.183705</td>\n",
       "    </tr>\n",
       "    <tr>\n",
       "      <th>Journey_Day</th>\n",
       "      <td>1.059887</td>\n",
       "    </tr>\n",
       "    <tr>\n",
       "      <th>Airline_Jet Airways</th>\n",
       "      <td>0.910527</td>\n",
       "    </tr>\n",
       "    <tr>\n",
       "      <th>Source_Kolkata</th>\n",
       "      <td>0.892582</td>\n",
       "    </tr>\n",
       "    <tr>\n",
       "      <th>Journey_Month</th>\n",
       "      <td>0.829120</td>\n",
       "    </tr>\n",
       "    <tr>\n",
       "      <th>Airline_Air India</th>\n",
       "      <td>0.783061</td>\n",
       "    </tr>\n",
       "    <tr>\n",
       "      <th>Route5</th>\n",
       "      <td>0.728364</td>\n",
       "    </tr>\n",
       "    <tr>\n",
       "      <th>Airline_IndiGo</th>\n",
       "      <td>0.663928</td>\n",
       "    </tr>\n",
       "    <tr>\n",
       "      <th>Additional_Info_In-flight meal not included</th>\n",
       "      <td>0.597515</td>\n",
       "    </tr>\n",
       "    <tr>\n",
       "      <th>Airline_Multiple carriers</th>\n",
       "      <td>0.563703</td>\n",
       "    </tr>\n",
       "    <tr>\n",
       "      <th>Destination_Delhi</th>\n",
       "      <td>0.395272</td>\n",
       "    </tr>\n",
       "    <tr>\n",
       "      <th>Destination_New Delhi</th>\n",
       "      <td>0.384785</td>\n",
       "    </tr>\n",
       "    <tr>\n",
       "      <th>Airline_SpiceJet</th>\n",
       "      <td>0.315780</td>\n",
       "    </tr>\n",
       "    <tr>\n",
       "      <th>Destination_Hyderabad</th>\n",
       "      <td>0.294242</td>\n",
       "    </tr>\n",
       "    <tr>\n",
       "      <th>Source_Mumbai</th>\n",
       "      <td>0.289158</td>\n",
       "    </tr>\n",
       "    <tr>\n",
       "      <th>Airline_Vistara</th>\n",
       "      <td>0.215996</td>\n",
       "    </tr>\n",
       "    <tr>\n",
       "      <th>Source_Chennai</th>\n",
       "      <td>0.177793</td>\n",
       "    </tr>\n",
       "    <tr>\n",
       "      <th>Destination_Kolkata</th>\n",
       "      <td>0.167850</td>\n",
       "    </tr>\n",
       "    <tr>\n",
       "      <th>Additional_Info_No check-in baggage included</th>\n",
       "      <td>0.167453</td>\n",
       "    </tr>\n",
       "    <tr>\n",
       "      <th>Airline_GoAir</th>\n",
       "      <td>0.109045</td>\n",
       "    </tr>\n",
       "    <tr>\n",
       "      <th>Airline_Multiple carriers Premium economy</th>\n",
       "      <td>0.011519</td>\n",
       "    </tr>\n",
       "    <tr>\n",
       "      <th>Additional_Info_Business class</th>\n",
       "      <td>0.010368</td>\n",
       "    </tr>\n",
       "    <tr>\n",
       "      <th>Additional_Info_1 Short layover</th>\n",
       "      <td>0.008444</td>\n",
       "    </tr>\n",
       "    <tr>\n",
       "      <th>Additional_Info_Red-eye flight</th>\n",
       "      <td>0.006325</td>\n",
       "    </tr>\n",
       "    <tr>\n",
       "      <th>Additional_Info_2 Long layover</th>\n",
       "      <td>0.006162</td>\n",
       "    </tr>\n",
       "    <tr>\n",
       "      <th>Additional_Info_Change airports</th>\n",
       "      <td>0.005233</td>\n",
       "    </tr>\n",
       "    <tr>\n",
       "      <th>Airline_Trujet</th>\n",
       "      <td>0.001742</td>\n",
       "    </tr>\n",
       "    <tr>\n",
       "      <th>Airline_Vistara Premium economy</th>\n",
       "      <td>0.000000</td>\n",
       "    </tr>\n",
       "    <tr>\n",
       "      <th>Additional_Info_No Info</th>\n",
       "      <td>0.000000</td>\n",
       "    </tr>\n",
       "  </tbody>\n",
       "</table>\n",
       "</div>"
      ],
      "text/plain": [
       "                                              importance\n",
       "Route2                                          2.736324\n",
       "Total_Duration_in_min                           2.378163\n",
       "Route3                                          2.307749\n",
       "Total_Stops                                     2.103406\n",
       "Route1                                          2.035982\n",
       "Additional_Info_No info                         1.982108\n",
       "Arrival_Time_H                                  1.874335\n",
       "Source_Delhi                                    1.541531\n",
       "Destination_Cochin                              1.516429\n",
       "Arrival_Time_M                                  1.511719\n",
       "Route4                                          1.425045\n",
       "Dep_Time_H                                      1.420322\n",
       "Dep_Time_M                                      1.183705\n",
       "Journey_Day                                     1.059887\n",
       "Airline_Jet Airways                             0.910527\n",
       "Source_Kolkata                                  0.892582\n",
       "Journey_Month                                   0.829120\n",
       "Airline_Air India                               0.783061\n",
       "Route5                                          0.728364\n",
       "Airline_IndiGo                                  0.663928\n",
       "Additional_Info_In-flight meal not included     0.597515\n",
       "Airline_Multiple carriers                       0.563703\n",
       "Destination_Delhi                               0.395272\n",
       "Destination_New Delhi                           0.384785\n",
       "Airline_SpiceJet                                0.315780\n",
       "Destination_Hyderabad                           0.294242\n",
       "Source_Mumbai                                   0.289158\n",
       "Airline_Vistara                                 0.215996\n",
       "Source_Chennai                                  0.177793\n",
       "Destination_Kolkata                             0.167850\n",
       "Additional_Info_No check-in baggage included    0.167453\n",
       "Airline_GoAir                                   0.109045\n",
       "Airline_Multiple carriers Premium economy       0.011519\n",
       "Additional_Info_Business class                  0.010368\n",
       "Additional_Info_1 Short layover                 0.008444\n",
       "Additional_Info_Red-eye flight                  0.006325\n",
       "Additional_Info_2 Long layover                  0.006162\n",
       "Additional_Info_Change airports                 0.005233\n",
       "Airline_Trujet                                  0.001742\n",
       "Airline_Vistara Premium economy                 0.000000\n",
       "Additional_Info_No Info                         0.000000"
      ]
     },
     "execution_count": 37,
     "metadata": {},
     "output_type": "execute_result"
    }
   ],
   "source": [
    "# Assign ariable name to mutual info classifier array\n",
    "variable_imp = pd.DataFrame(mutual_info_classif(X, y), index=X.columns, columns=['importance'])\n",
    "\n",
    "# Show sorted mutual info classifier values in sorted by descending order\n",
    "variable_imp.sort_values(by='importance', ascending=False)\n"
   ]
  },
  {
   "cell_type": "code",
   "execution_count": 38,
   "metadata": {},
   "outputs": [
    {
     "data": {
      "text/plain": [
       "(10673, 39)"
      ]
     },
     "execution_count": 38,
     "metadata": {},
     "output_type": "execute_result"
    }
   ],
   "source": [
    "# Drop columns where mutual info classifier is equal to 0\n",
    "outlist = variable_imp[variable_imp['importance'] == 0]\n",
    "outlist_col = (outlist.index).tolist()\n",
    "X.drop(columns = outlist_col, axis=1, inplace=True)\n",
    "X.shape"
   ]
  },
  {
   "cell_type": "markdown",
   "metadata": {},
   "source": [
    "## Model Building\n",
    "<dl>\n",
    "  <dd>First, I split the data into train and tests sets with a test size of 20%.</dd>\n",
    "  <dd>As price prediction is regression problem I will try thebelow model from sklearn:</dd>\n",
    "  <dd>This is one definition of the second term. </dd>\n",
    "  <dd>Linear Model,</dd>\n",
    "  <dd>Logistic Regression,</dd>\n",
    "  <dd>KNeighbors Regressor,</dd>\n",
    "  <dd>Decision TreeRegressor,</dd>\n",
    "  <dd>Gradient Boosting Regressor, </dd>\n",
    "  <dd>Random Forest Regressor,</dd>\n",
    "  <dt>The best model will be chosen and I will tune hyperparameters to reach the best model predictions.</dt>\n",
    "</dl>"
   ]
  },
  {
   "cell_type": "code",
   "execution_count": 39,
   "metadata": {},
   "outputs": [],
   "source": [
    "# Spiliting the dataset for train and test sets\n",
    "from sklearn.model_selection import train_test_split\n",
    "X_train, X_test, y_train, y_test = train_test_split(X, y, test_size=0.20, random_state=21)"
   ]
  },
  {
   "cell_type": "code",
   "execution_count": 40,
   "metadata": {},
   "outputs": [],
   "source": [
    "# Import metrics\n",
    "from sklearn.metrics import r2_score, mean_absolute_error, mean_squared_error\n",
    "\n",
    "# Define function that run models, print results and display prediction error\n",
    "\n",
    "def predict(ml_model):\n",
    "    \"\"\"Function will run models, print results and display prediction\"\"\"\n",
    "    print('Model is: {}'.format(ml_model))\n",
    "    model= ml_model.fit(X_train, y_train)\n",
    "    print(\"Training score: {}\".format(model.score(X_train, y_train)))\n",
    "    predictions = model.predict(X_test)\n",
    "    print(\"Predictions are: {}\".format(predictions))\n",
    "    print('\\n')\n",
    "    r2score = r2_score(y_test, predictions) \n",
    "    print(\"Test score is: {}\".format(r2score))\n",
    "          \n",
    "    print('MAE:  {}'.format(mean_absolute_error(y_test, predictions)))\n",
    "    print('MSE:  {}'.format(mean_squared_error(y_test, predictions)))\n",
    "    print('RMSE: {}'.format(np.sqrt(mean_squared_error(y_test, predictions))))\n",
    "    \n",
    "    # Distribution plot between actual value and predicted value\n",
    "    sns.distplot(y_test-predictions)      \n",
    "          "
   ]
  },
  {
   "cell_type": "code",
   "execution_count": 41,
   "metadata": {},
   "outputs": [],
   "source": [
    "# Import models\n",
    "from sklearn import linear_model\n",
    "from sklearn.linear_model import LogisticRegression\n",
    "from sklearn.neighbors import KNeighborsRegressor\n",
    "from sklearn.tree import DecisionTreeRegressor\n",
    "from sklearn.ensemble import GradientBoostingRegressor, RandomForestRegressor"
   ]
  },
  {
   "cell_type": "code",
   "execution_count": 42,
   "metadata": {},
   "outputs": [
    {
     "name": "stdout",
     "output_type": "stream",
     "text": [
      "Model is: Ridge(alpha=0.5)\n",
      "Training score: 0.6895138053663284\n",
      "Predictions are: [14274.87601519 13133.86784625  8248.98810029 ...  9945.5192584\n",
      " 11735.62972132 11453.5737809 ]\n",
      "\n",
      "\n",
      "Test score is: 0.6821910945777735\n",
      "MAE:  1727.9923263276523\n",
      "MSE:  6609619.229662573\n",
      "RMSE: 2570.9179741218063\n"
     ]
    },
    {
     "data": {
      "image/png": "[encoded data removed]",
      "text/plain": [
       "<Figure size 432x288 with 1 Axes>"
      ]
     },
     "metadata": {
      "needs_background": "light"
     },
     "output_type": "display_data"
    }
   ],
   "source": [
    "# Run simple Linear regresion model\n",
    "predict(linear_model.Ridge(alpha=.5))"
   ]
  },
  {
   "cell_type": "code",
   "execution_count": 43,
   "metadata": {},
   "outputs": [
    {
     "name": "stdout",
     "output_type": "stream",
     "text": [
      "Model is: LogisticRegression()\n"
     ]
    },
    {
     "name": "stderr",
     "output_type": "stream",
     "text": [
      "C:\\Users\\Piotr\\anaconda3\\lib\\site-packages\\sklearn\\linear_model\\_logistic.py:762: ConvergenceWarning: lbfgs failed to converge (status=1):\n",
      "STOP: TOTAL NO. of ITERATIONS REACHED LIMIT.\n",
      "\n",
      "Increase the number of iterations (max_iter) or scale the data as shown in:\n",
      "    https://scikit-learn.org/stable/modules/preprocessing.html\n",
      "Please also refer to the documentation for alternative solver options:\n",
      "    https://scikit-learn.org/stable/modules/linear_model.html#logistic-regression\n",
      "  n_iter_i = _check_optimize_result(\n"
     ]
    },
    {
     "name": "stdout",
     "output_type": "stream",
     "text": [
      "Training score: 0.07027406886858749\n",
      "Predictions are: [10262. 10844.  7229. ... 10262. 10262. 14151.]\n",
      "\n",
      "\n",
      "Test score is: 0.30550362036556566\n",
      "MAE:  2745.2046838407496\n",
      "MSE:  14443763.36674473\n",
      "RMSE: 3800.4951475754747\n"
     ]
    },
    {
     "data": {
      "image/png": "[encoded data removed]",
      "text/plain": [
       "<Figure size 432x288 with 1 Axes>"
      ]
     },
     "metadata": {
      "needs_background": "light"
     },
     "output_type": "display_data"
    }
   ],
   "source": [
    "# Run Logistic regresion model\n",
    "predict(LogisticRegression())"
   ]
  },
  {
   "cell_type": "code",
   "execution_count": 44,
   "metadata": {},
   "outputs": [
    {
     "name": "stdout",
     "output_type": "stream",
     "text": [
      "Model is: KNeighborsRegressor()\n",
      "Training score: 0.7483314733138755\n",
      "Predictions are: [11051.2 11865.4  4987.  ... 11479.4  9114.2 13185.2]\n",
      "\n",
      "\n",
      "Test score is: 0.6218461435277831\n",
      "MAE:  1720.8299765807963\n",
      "MSE:  7864641.169161593\n",
      "RMSE: 2804.3967567306863\n"
     ]
    },
    {
     "data": {
      "image/png": "[encoded data removed]",
      "text/plain": [
       "<Figure size 432x288 with 1 Axes>"
      ]
     },
     "metadata": {
      "needs_background": "light"
     },
     "output_type": "display_data"
    }
   ],
   "source": [
    "# Run KNR model\n",
    "predict(KNeighborsRegressor())"
   ]
  },
  {
   "cell_type": "code",
   "execution_count": 45,
   "metadata": {},
   "outputs": [
    {
     "name": "stdout",
     "output_type": "stream",
     "text": [
      "Model is: DecisionTreeRegressor()\n",
      "Training score: 0.9954269319338729\n",
      "Predictions are: [13941. 10624.  8016. ...  8529.  7198. 14634.]\n",
      "\n",
      "\n",
      "Test score is: 0.8816097467248346\n",
      "MAE:  636.4048399687744\n",
      "MSE:  2462217.015638824\n",
      "RMSE: 1569.1453137421097\n"
     ]
    },
    {
     "data": {
      "image/png": "[encoded data removed]",
      "text/plain": [
       "<Figure size 432x288 with 1 Axes>"
      ]
     },
     "metadata": {
      "needs_background": "light"
     },
     "output_type": "display_data"
    }
   ],
   "source": [
    "# Run Decision Tree Regressor model\n",
    "predict(DecisionTreeRegressor())"
   ]
  },
  {
   "cell_type": "code",
   "execution_count": 46,
   "metadata": {},
   "outputs": [
    {
     "name": "stdout",
     "output_type": "stream",
     "text": [
      "Model is: GradientBoostingRegressor()\n",
      "Training score: 0.854645189405383\n",
      "Predictions are: [13768.36789738 13341.78529027  7755.13321411 ...  9943.74392368\n",
      " 10505.03398134 12846.41780938]\n",
      "\n",
      "\n",
      "Test score is: 0.8446900058011856\n",
      "MAE:  1167.4238085782229\n",
      "MSE:  3230053.9937716722\n",
      "RMSE: 1797.2350969674703\n"
     ]
    },
    {
     "data": {
      "image/png": "[encoded data removed]",
      "text/plain": [
       "<Figure size 432x288 with 1 Axes>"
      ]
     },
     "metadata": {
      "needs_background": "light"
     },
     "output_type": "display_data"
    }
   ],
   "source": [
    "# Run Gradient Boosting Regressor model\n",
    "predict(GradientBoostingRegressor())"
   ]
  },
  {
   "cell_type": "code",
   "execution_count": 47,
   "metadata": {},
   "outputs": [
    {
     "name": "stdout",
     "output_type": "stream",
     "text": [
      "Model is: RandomForestRegressor()\n",
      "Training score: 0.9854179677626809\n",
      "Predictions are: [14034.54       12024.06        7992.39       ...  8591.67\n",
      "  7431.19333333 13753.65666667]\n",
      "\n",
      "\n",
      "Test score is: 0.91623036445876\n",
      "MAE:  595.3595623080927\n",
      "MSE:  1742195.9689883566\n",
      "RMSE: 1319.9227132633018\n"
     ]
    },
    {
     "data": {
      "image/png": "[encoded data removed]",
      "text/plain": [
       "<Figure size 432x288 with 1 Axes>"
      ]
     },
     "metadata": {
      "needs_background": "light"
     },
     "output_type": "display_data"
    }
   ],
   "source": [
    "# Run Random Forest Regressor model\n",
    "predict(RandomForestRegressor())"
   ]
  },
  {
   "cell_type": "markdown",
   "metadata": {},
   "source": [
    "## Best Model & Hyperparameter Tuning\n",
    "\n",
    "<dl>\n",
    "  <dd>The best results delivered by Random Forest Regressor were 98% for the training sample and 91% for test data. This is amazing resutls with simple model before hyperparameters toning</dd>\n",
    "  <dd>Second, the best model Radient Boosting Regressor delivered 85% for the training sample and 84% for test data. </dd>\n",
    "</dl>\n"
   ]
  },
  {
   "cell_type": "code",
   "execution_count": 48,
   "metadata": {},
   "outputs": [],
   "source": [
    "# Import Randomized SearchCV\n",
    "from sklearn.model_selection import RandomizedSearchCV"
   ]
  },
  {
   "cell_type": "code",
   "execution_count": 49,
   "metadata": {},
   "outputs": [],
   "source": [
    "# Define the dictionary for hiperparametres\n",
    "random_grid = {\n",
    "    'n_estimators' : [100, 120, 150, 180, 200],\n",
    "    'max_features':['auto','sqrt'],\n",
    "    'max_depth':[10, 15, 20],\n",
    "    'min_samples_leaf': [2, 10, 30]}"
   ]
  },
  {
   "cell_type": "code",
   "execution_count": 50,
   "metadata": {},
   "outputs": [
    {
     "name": "stdout",
     "output_type": "stream",
     "text": [
      "Fitting 3 folds for each of 10 candidates, totalling 30 fits\n"
     ]
    },
    {
     "name": "stderr",
     "output_type": "stream",
     "text": [
      "[Parallel(n_jobs=-1)]: Using backend LokyBackend with 4 concurrent workers.\n",
      "[Parallel(n_jobs=-1)]: Done  30 out of  30 | elapsed:   31.0s finished\n"
     ]
    },
    {
     "data": {
      "text/plain": [
       "{'n_estimators': 200,\n",
       " 'min_samples_leaf': 2,\n",
       " 'max_features': 'auto',\n",
       " 'max_depth': 20}"
      ]
     },
     "execution_count": 50,
     "metadata": {},
     "output_type": "execute_result"
    }
   ],
   "source": [
    "# Instantiate Random Forest Regressor\n",
    "rf=RandomForestRegressor()\n",
    "rf_random=RandomizedSearchCV(estimator=rf,param_distributions=random_grid,cv=3,verbose=2,n_jobs=-1,)\n",
    "\n",
    "rf_random.fit(X_train,y_train)\n",
    "\n",
    "# Show best parameters\n",
    "rf_random.best_params_"
   ]
  },
  {
   "cell_type": "code",
   "execution_count": 51,
   "metadata": {},
   "outputs": [
    {
     "data": {
      "text/plain": [
       "<matplotlib.axes._subplots.AxesSubplot at 0x25186522130>"
      ]
     },
     "execution_count": 51,
     "metadata": {},
     "output_type": "execute_result"
    },
    {
     "data": {
      "image/png": "[encoded data removed]",
      "text/plain": [
       "<Figure size 432x288 with 1 Axes>"
      ]
     },
     "metadata": {
      "needs_background": "light"
     },
     "output_type": "display_data"
    }
   ],
   "source": [
    "# Predicting test values\n",
    "prediction = rf_random.predict(X_test)\n",
    "\n",
    "# Distribution plot between actual value and predicted value\n",
    "sns.distplot(y_test-prediction) "
   ]
  },
  {
   "cell_type": "code",
   "execution_count": 52,
   "metadata": {
    "scrolled": true
   },
   "outputs": [
    {
     "data": {
      "image/png": "[encoded data removed]",
      "text/plain": [
       "<Figure size 432x288 with 1 Axes>"
      ]
     },
     "metadata": {
      "needs_background": "light"
     },
     "output_type": "display_data"
    }
   ],
   "source": [
    "# Create a pd.Series of features for top 10 importances varables for best model.\n",
    "importances = pd.Series(data=rf_random.best_estimator_.feature_importances_,\n",
    "                        index= X_train.columns)\n",
    "\n",
    "# Sort importances\n",
    "importances_sorted = importances.sort_values(ascending=False).head(10)\n",
    "\n",
    "# Draw a horizontal barplot of importances_sorted\n",
    "importances_sorted.plot(kind='barh', color='lightblue')\n",
    "plt.title('Features Importances')\n",
    "plt.show()\n",
    " "
   ]
  },
  {
   "cell_type": "markdown",
   "metadata": {},
   "source": [
    "As expected Total Duration in minutes is the most important for price value (48%). Day and Month play also important role for price prediction( 18%). "
   ]
  },
  {
   "cell_type": "code",
   "execution_count": 53,
   "metadata": {},
   "outputs": [],
   "source": [
    "# Import Joblib Module from Scikit Learn\n",
    "import joblib\n",
    "\n",
    "# Save Best Model to file in the current working directory\n",
    "joblib_file = \"joblib_Best_Model.pkl\"  \n",
    "joblib.dump(rf_random, joblib_file)"
   ]
  },
  {
   "cell_type": "code",
   "execution_count": null,
   "metadata": {},
   "outputs": [],
   "source": []
  }
 ],
 "metadata": {
  "kernelspec": {
   "display_name": "Python 3",
   "language": "python",
   "name": "python3"
  },
  "language_info": {
   "codemirror_mode": {
    "name": "ipython",
    "version": 3
   },
   "file_extension": ".py",
   "mimetype": "text/x-python",
   "name": "python",
   "nbconvert_exporter": "python",
   "pygments_lexer": "ipython3",
   "version": "3.8.3"
  }
 },
 "nbformat": 4,
 "nbformat_minor": 4
}
