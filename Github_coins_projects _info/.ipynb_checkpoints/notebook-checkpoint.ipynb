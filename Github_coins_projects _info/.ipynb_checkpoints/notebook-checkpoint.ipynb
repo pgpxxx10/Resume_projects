{
 "cells": [
  {
   "cell_type": "markdown",
   "id": "c35dbc9f",
   "metadata": {},
   "source": [
    "This Proiect is going to provide information about project available on Github repozitories for cryptocurrency world.\n",
    "Im intersted about numbers of project runed for coin numbers of commits and developres working on this project.\n",
    "How projects perform durring the time.\n"
   ]
  },
  {
   "cell_type": "code",
   "execution_count": 4,
   "id": "93b273b1",
   "metadata": {},
   "outputs": [],
   "source": [
    "import os,sys\n",
    "import pandas as pd\n",
    "import requests\n",
    "from bs4 import BeautifulSoup"
   ]
  },
  {
   "cell_type": "code",
   "execution_count": 26,
   "id": "24ffdad3",
   "metadata": {},
   "outputs": [],
   "source": [
    "# Here, I will define a function which will download the page:\n",
    "\n",
    "def download_page(url):\n",
    "    response = requests.get(url)\n",
    "    if response.status_code != 200:  # I have checked the response status code if it is successfully loaded.\n",
    "        print('There is something wrong with {}'.format(url))\n",
    "    response_contents = response.text\n",
    "    \n",
    "    # Now we will parse the contents using BeautifulSoup:\n",
    "    parsed_contents = BeautifulSoup(response_contents,'html.parser')\n",
    "    return parsed_contents"
   ]
  },
  {
   "cell_type": "code",
   "execution_count": 30,
   "id": "4394c083",
   "metadata": {},
   "outputs": [
    {
     "name": "stdout",
     "output_type": "stream",
     "text": [
      "Page loaded successfully\n"
     ]
    }
   ],
   "source": [
    "url = 'https://github.com/topics/cryptocurrency' # I changed topic to search for cryptocurrency\n",
    "parsed_contents = download_page(url)\n",
    "print('Page loaded successfully')\n"
   ]
  },
  {
   "cell_type": "code",
   "execution_count": 31,
   "id": "ab09cc05",
   "metadata": {},
   "outputs": [],
   "source": [
    "# We will now define another function which will gives us all the topic titles. This function will take parsed_contents as argument.\n",
    "\n",
    "def get_topic_titles(parsed_content):\n",
    "    \n",
    "    # I have checked the tag and class in which titles are\n",
    "    \n",
    "    selected_class =  'f3 color-fg-muted text-normal lh-condensed' #'f3 lh-condensed mb-0 mt-1 Link--primary'\n",
    "    topic_title_tags = parsed_content.find_all('a',{'class':selected_class})\n",
    "    \n",
    "    # We can make a list of topics\n",
    "    topic_titles = []\n",
    "    for tags in topic_title_tags:\n",
    "        topic_titles.append(tags.text)\n",
    "    return topic_titles"
   ]
  },
  {
   "cell_type": "code",
   "execution_count": 29,
   "id": "a37895b4",
   "metadata": {},
   "outputs": [
    {
     "data": {
      "text/plain": [
       "[]"
      ]
     },
     "execution_count": 29,
     "metadata": {},
     "output_type": "execute_result"
    }
   ],
   "source": [
    "topic_titles = get_topic_titles(parsed_contents)\n",
    "topic_titles"
   ]
  },
  {
   "cell_type": "code",
   "execution_count": 12,
   "id": "a4f14b85",
   "metadata": {},
   "outputs": [],
   "source": [
    "# Similarly we are going to define functions for topic description and topic url\n",
    "\n",
    "def get_topic_desc(parsed_contents):\n",
    "    desc_selector = 'f5 color-text-secondary mb-0 mt-1'\n",
    "    topic_desc_tags = parsed_contents.find_all('p',{'class': desc_selector})\n",
    "\n",
    "    topic_desc = []\n",
    "    for desc in topic_desc_tags:\n",
    "        topic_desc.append(desc.text.strip())  # strip() is used for trimming all extra spaces in description.\n",
    "    return topic_desc\n",
    "\n",
    "def get_topic_url(parsed_contents):\n",
    "    topic_link_tag = parsed_contents.find_all('a',{'class':'d-flex no-underline'})\n",
    "\n",
    "    topic_urls = []\n",
    "    base_url = 'http://github.com'\n",
    "    for urls in topic_link_tag:\n",
    "        topic_urls.append(base_url + urls['href'])\n",
    "    return topic_urls"
   ]
  },
  {
   "cell_type": "code",
   "execution_count": 13,
   "id": "e45854c8",
   "metadata": {},
   "outputs": [
    {
     "data": {
      "text/plain": [
       "[]"
      ]
     },
     "execution_count": 13,
     "metadata": {},
     "output_type": "execute_result"
    }
   ],
   "source": [
    "topic_desc = get_topic_desc(parsed_contents)\n",
    "topic_desc"
   ]
  },
  {
   "cell_type": "code",
   "execution_count": null,
   "id": "393ef176",
   "metadata": {},
   "outputs": [],
   "source": []
  }
 ],
 "metadata": {
  "kernelspec": {
   "display_name": "Python 3 (ipykernel)",
   "language": "python",
   "name": "python3"
  },
  "language_info": {
   "codemirror_mode": {
    "name": "ipython",
    "version": 3
   },
   "file_extension": ".py",
   "mimetype": "text/x-python",
   "name": "python",
   "nbconvert_exporter": "python",
   "pygments_lexer": "ipython3",
   "version": "3.8.3"
  }
 },
 "nbformat": 4,
 "nbformat_minor": 5
}
