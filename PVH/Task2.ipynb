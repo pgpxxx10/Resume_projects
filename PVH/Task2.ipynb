{
 "cells": [
  {
   "cell_type": "markdown",
   "id": "a1cca35e",
   "metadata": {},
   "source": [
    "## Task 2 Python\n",
    "\n",
    "Write a function to calculate how many days will the daily orders take to be packed.\n",
    "\n",
    "e.g. of orders expected on 2022-01-10 (38k), 92% will be packed on the same day, and\n",
    "8% on the second day.\n",
    "Requisites:\n",
    "● % of how many orders will take 1 day, 2 days and so on. See example above\n",
    "● Take the current backlog into account. If there are 100k units waiting to be\n",
    "packed, packing days will increase for all upcoming"
   ]
  },
  {
   "cell_type": "code",
   "execution_count": 1,
   "id": "e763e613",
   "metadata": {},
   "outputs": [
    {
     "name": "stdout",
     "output_type": "stream",
     "text": [
      "The total null values:\n",
      "order_date            0\n",
      "warehouse_capacity    0\n",
      "order_forecast        0\n",
      "dtype: int64\n"
     ]
    },
    {
     "data": {
      "text/plain": [
       "order_date            datetime64[ns]\n",
       "warehouse_capacity             int64\n",
       "order_forecast                 int64\n",
       "dtype: object"
      ]
     },
     "execution_count": 1,
     "metadata": {},
     "output_type": "execute_result"
    }
   ],
   "source": [
    "#Import necessery libraies\n",
    "\n",
    "import pandas as pd\n",
    "import numpy as np\n",
    "\n",
    "import matplotlib.pyplot as plt\n",
    "import seaborn as sns\n",
    "\n",
    "# Open packaging capacity prediction file\n",
    "\n",
    "link = (r\"C:\\Users\\Piotr\\Documents\\PVH\\Orders_packaging_capacity.csv\")\n",
    "df = pd.read_csv(link, header=0, sep = \";\", parse_dates=['order_date'])\n",
    "\n",
    "# Check null values in data frame\n",
    "total_nulls = df.isnull().sum()\n",
    "print(f'The total null values:\\n{total_nulls}')\n",
    "\n",
    "df.head()\n",
    "df.dtypes\n"
   ]
  },
  {
   "cell_type": "code",
   "execution_count": 2,
   "id": "2edaabfa",
   "metadata": {},
   "outputs": [
    {
     "data": {
      "text/plain": [
       "order_date            datetime64[ns]\n",
       "warehouse_capacity             int64\n",
       "order_forecast                 int64\n",
       "dtype: object"
      ]
     },
     "execution_count": 2,
     "metadata": {},
     "output_type": "execute_result"
    }
   ],
   "source": [
    "# Show the first few rows\n",
    "df.head(3)\n",
    "df.dtypes"
   ]
  },
  {
   "cell_type": "code",
   "execution_count": 3,
   "id": "91d1eb96",
   "metadata": {},
   "outputs": [
    {
     "data": {
      "text/html": [
       "<div>\n",
       "<style scoped>\n",
       "    .dataframe tbody tr th:only-of-type {\n",
       "        vertical-align: middle;\n",
       "    }\n",
       "\n",
       "    .dataframe tbody tr th {\n",
       "        vertical-align: top;\n",
       "    }\n",
       "\n",
       "    .dataframe thead th {\n",
       "        text-align: right;\n",
       "    }\n",
       "</style>\n",
       "<table border=\"1\" class=\"dataframe\">\n",
       "  <thead>\n",
       "    <tr style=\"text-align: right;\">\n",
       "      <th></th>\n",
       "      <th>order_date</th>\n",
       "      <th>warehouse_capacity</th>\n",
       "      <th>order_forecast</th>\n",
       "      <th>initial_BO</th>\n",
       "    </tr>\n",
       "  </thead>\n",
       "  <tbody>\n",
       "    <tr>\n",
       "      <th>0</th>\n",
       "      <td>2022-01-10</td>\n",
       "      <td>35000</td>\n",
       "      <td>38000</td>\n",
       "      <td>10000.0</td>\n",
       "    </tr>\n",
       "    <tr>\n",
       "      <th>1</th>\n",
       "      <td>2022-02-10</td>\n",
       "      <td>35000</td>\n",
       "      <td>38000</td>\n",
       "      <td>0.0</td>\n",
       "    </tr>\n",
       "    <tr>\n",
       "      <th>2</th>\n",
       "      <td>2022-03-10</td>\n",
       "      <td>35000</td>\n",
       "      <td>38000</td>\n",
       "      <td>0.0</td>\n",
       "    </tr>\n",
       "  </tbody>\n",
       "</table>\n",
       "</div>"
      ],
      "text/plain": [
       "  order_date  warehouse_capacity  order_forecast  initial_BO\n",
       "0 2022-01-10               35000           38000     10000.0\n",
       "1 2022-02-10               35000           38000         0.0\n",
       "2 2022-03-10               35000           38000         0.0"
      ]
     },
     "execution_count": 3,
     "metadata": {},
     "output_type": "execute_result"
    }
   ],
   "source": [
    "# Add Initial backorders to dasta frame\n",
    "df.loc[df.index[0], 'initial_BO'] = 10000\n",
    "df['initial_BO']= df['initial_BO'].fillna(0)\n",
    "df.head(3)"
   ]
  },
  {
   "cell_type": "code",
   "execution_count": 4,
   "id": "ba40a793",
   "metadata": {},
   "outputs": [
    {
     "ename": "SyntaxError",
     "evalue": "invalid syntax (Temp/ipykernel_4888/2496244982.py, line 8)",
     "output_type": "error",
     "traceback": [
      "\u001b[1;36m  File \u001b[1;32m\"C:\\Users\\Piotr\\AppData\\Local\\Temp/ipykernel_4888/2496244982.py\"\u001b[1;36m, line \u001b[1;32m8\u001b[0m\n\u001b[1;33m    Insert new column that calculate percentage order pack with not delay\u001b[0m\n\u001b[1;37m           ^\u001b[0m\n\u001b[1;31mSyntaxError\u001b[0m\u001b[1;31m:\u001b[0m invalid syntax\n"
     ]
    }
   ],
   "source": [
    "# Insert new columns that will calculate daily percentage missing capacity\n",
    "df['procentage_daily_missing_capacity'] = 1 - (df.warehouse_capacity / df.order_forecast)\n",
    "\n",
    "#Insert new column that calculate percentage order pack next day\n",
    "df['procentage_order_pack_next_day'] = ((df.order_forecast + df.initial_BO - df.warehouse_capacity)/ (df.order_forecast)*100)\n",
    "df['procentage_order_pack_next_day'] = df['procentage_order_pack_next_day'].cumsum().round()\n",
    "\n",
    "Insert new column that calculate percentage order pack with not delay\n",
    "df['percentage_order_pack_no_delay'] = 100 - df.procentage_order_pack_next_day.round()\n",
    "\n",
    "print(df.head(10))"
   ]
  },
  {
   "cell_type": "code",
   "execution_count": 5,
   "id": "f1797c2a",
   "metadata": {},
   "outputs": [],
   "source": [
    "# Adding daily static BO quantity and inintial BO quantity\n",
    "df['daily_BO'] = df.order_forecast - df.warehouse_capacity\n",
    "df['initial_and_daily_BO'] = df.initial_BO + df.daily_BO.cumsum()\n",
    "\n",
    "# Calculate cummulative values for warehouse and orders\n",
    "df['orders_cummulative'] = df.initial_BO + df.order_forecast.cumsum()\n",
    "df['wh_cummulative_capacity'] = df.warehouse_capacity.cumsum()"
   ]
  },
  {
   "cell_type": "code",
   "execution_count": 6,
   "id": "9f6c9eaa",
   "metadata": {},
   "outputs": [
    {
     "name": "stdout",
     "output_type": "stream",
     "text": [
      "  order_date  warehouse_capacity  order_forecast  initial_BO  daily_BO  \\\n",
      "0 2022-01-10               35000           38000     10000.0      3000   \n",
      "1 2022-02-10               35000           38000         0.0      3000   \n",
      "2 2022-03-10               35000           38000         0.0      3000   \n",
      "3 2022-04-10               35000           38000         0.0      3000   \n",
      "4 2022-05-10               35000           38000         0.0      3000   \n",
      "5 2022-06-10               35000           38000         0.0      3000   \n",
      "6 2022-07-10               35000           38000         0.0      3000   \n",
      "7 2022-08-10               35000           38000         0.0      3000   \n",
      "8 2022-09-10               35000           38000         0.0      3000   \n",
      "9 2022-10-10               35000           38000         0.0      3000   \n",
      "\n",
      "   initial_and_daily_BO  orders_cummulative  wh_cummulative_capacity  \n",
      "0               13000.0             48000.0                    35000  \n",
      "1                6000.0             76000.0                    70000  \n",
      "2                9000.0            114000.0                   105000  \n",
      "3               12000.0            152000.0                   140000  \n",
      "4               15000.0            190000.0                   175000  \n",
      "5               18000.0            228000.0                   210000  \n",
      "6               21000.0            266000.0                   245000  \n",
      "7               24000.0            304000.0                   280000  \n",
      "8               27000.0            342000.0                   315000  \n",
      "9               30000.0            380000.0                   350000  \n"
     ]
    }
   ],
   "source": [
    "print(df.head(10))"
   ]
  },
  {
   "cell_type": "code",
   "execution_count": 7,
   "id": "811c2c1a",
   "metadata": {},
   "outputs": [
    {
     "data": {
      "text/plain": [
       "<AxesSubplot:>"
      ]
     },
     "execution_count": 7,
     "metadata": {},
     "output_type": "execute_result"
    },
    {
     "data": {
      "image/png": "[encoded data removed]",
      "text/plain": [
       "<Figure size 432x288 with 1 Axes>"
      ]
     },
     "metadata": {
      "needs_background": "light"
     },
     "output_type": "display_data"
    }
   ],
   "source": [
    "# Plot cummulative orders vs warehouse capacity\n",
    "\n",
    "df1= df[['order_date', 'orders_cummulative', 'wh_cummulative_capacity']]\n",
    "sns.lineplot(data=df1)\n"
   ]
  },
  {
   "cell_type": "code",
   "execution_count": null,
   "id": "e4b6ee31",
   "metadata": {},
   "outputs": [],
   "source": []
  }
 ],
 "metadata": {
  "kernelspec": {
   "display_name": "Python 3 (ipykernel)",
   "language": "python",
   "name": "python3"
  },
  "language_info": {
   "codemirror_mode": {
    "name": "ipython",
    "version": 3
   },
   "file_extension": ".py",
   "mimetype": "text/x-python",
   "name": "python",
   "nbconvert_exporter": "python",
   "pygments_lexer": "ipython3",
   "version": "3.8.3"
  }
 },
 "nbformat": 4,
 "nbformat_minor": 5
}
