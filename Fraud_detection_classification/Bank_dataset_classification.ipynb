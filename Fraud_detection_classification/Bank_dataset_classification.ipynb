{
 "cells": [
  {
   "cell_type": "markdown",
   "metadata": {},
   "source": [
    "## Fraud detection project overvew\n",
    "\n",
    "\n",
    "<dl>\n",
    "  <dt>The project goal is to build a fraud predictive model with accuracy above 90%.</dt>\n",
    "  <dd>This is a binary classification task  as our target represent binary data. </dd>\n",
    "  <dd>I will clean data and perform feature engineering. In the next step I will split data to test and train sets to validate my results.</dd>\n",
    "    <dd>I'm going to use Scikit-learn classification models and hyperparameters toning process.</dd>\n",
    "    <dd>Models: Logistic regression, Decision Tree Classifier, Gradient Boosting Classifier, Random Forest Classifier.</dd>\n",
    "    <dd>In parallel I will perform search of the best hyperparameters using Scikit-learn Grid Search and Randomized Search CV.</dd>\n",
    "    <dd>In my last step, I will use Scikit-learn Voting Classifier that will be trained on top 3 best performing models.</dd>\n",
    "    <dd>Voting Classifier model will be saved</dd>\n",
    "</dl>\n",
    "\n",
    "Source of record data is kaggle website. Record include 20468 entries in 113 columns. Link to [data](https://www.kaggle.com/volodymyrgavrysh/fraud-detection-bank-dataset-20k-records-binary).\n",
    "\n",
    "![alt text](fraud.jpg)"
   ]
  },
  {
   "cell_type": "code",
   "execution_count": 1,
   "metadata": {},
   "outputs": [],
   "source": [
    "#Import necessery libraries\n",
    "import pandas as pd\n",
    "import numpy as np\n",
    "import seaborn as sns\n",
    "import matplotlib.pyplot as plt\n",
    "\n",
    "# Import data scaling\n",
    "from sklearn.model_selection import train_test_split\n",
    "from sklearn.preprocessing import StandardScaler\n",
    "\n",
    "# Import Models\n",
    "from sklearn.linear_model import LogisticRegression\n",
    "from sklearn.tree import DecisionTreeClassifier\n",
    "from sklearn.ensemble import GradientBoostingClassifier\n",
    "from sklearn.ensemble import RandomForestClassifier\n",
    "from sklearn.svm import SVC\n",
    "from sklearn.ensemble import VotingClassifier\n",
    "\n",
    "# Import Hyperparameter Tuning tools\n",
    "from sklearn.model_selection import GridSearchCV\n",
    "from sklearn.model_selection import RandomizedSearchCV\n",
    "\n",
    "# from sklearn.metrics import precision_recall_curve\n"
   ]
  },
  {
   "cell_type": "code",
   "execution_count": 2,
   "metadata": {},
   "outputs": [
    {
     "data": {
      "text/html": [
       "<div>\n",
       "<style scoped>\n",
       "    .dataframe tbody tr th:only-of-type {\n",
       "        vertical-align: middle;\n",
       "    }\n",
       "\n",
       "    .dataframe tbody tr th {\n",
       "        vertical-align: top;\n",
       "    }\n",
       "\n",
       "    .dataframe thead th {\n",
       "        text-align: right;\n",
       "    }\n",
       "</style>\n",
       "<table border=\"1\" class=\"dataframe\">\n",
       "  <thead>\n",
       "    <tr style=\"text-align: right;\">\n",
       "      <th></th>\n",
       "      <th>Unnamed: 0</th>\n",
       "      <th>col_0</th>\n",
       "      <th>col_1</th>\n",
       "      <th>col_2</th>\n",
       "      <th>col_3</th>\n",
       "      <th>col_4</th>\n",
       "      <th>col_5</th>\n",
       "      <th>col_6</th>\n",
       "      <th>col_7</th>\n",
       "      <th>col_8</th>\n",
       "      <th>...</th>\n",
       "      <th>col_103</th>\n",
       "      <th>col_104</th>\n",
       "      <th>col_105</th>\n",
       "      <th>col_106</th>\n",
       "      <th>col_107</th>\n",
       "      <th>col_108</th>\n",
       "      <th>col_109</th>\n",
       "      <th>col_110</th>\n",
       "      <th>col_111</th>\n",
       "      <th>targets</th>\n",
       "    </tr>\n",
       "  </thead>\n",
       "  <tbody>\n",
       "    <tr>\n",
       "      <th>0</th>\n",
       "      <td>0</td>\n",
       "      <td>9</td>\n",
       "      <td>1354</td>\n",
       "      <td>0</td>\n",
       "      <td>18</td>\n",
       "      <td>0</td>\n",
       "      <td>1</td>\n",
       "      <td>7</td>\n",
       "      <td>9</td>\n",
       "      <td>0</td>\n",
       "      <td>...</td>\n",
       "      <td>0</td>\n",
       "      <td>0</td>\n",
       "      <td>0</td>\n",
       "      <td>1</td>\n",
       "      <td>1</td>\n",
       "      <td>0</td>\n",
       "      <td>0</td>\n",
       "      <td>0</td>\n",
       "      <td>49</td>\n",
       "      <td>1</td>\n",
       "    </tr>\n",
       "    <tr>\n",
       "      <th>1</th>\n",
       "      <td>1</td>\n",
       "      <td>0</td>\n",
       "      <td>239</td>\n",
       "      <td>0</td>\n",
       "      <td>1</td>\n",
       "      <td>0</td>\n",
       "      <td>1</td>\n",
       "      <td>0</td>\n",
       "      <td>0</td>\n",
       "      <td>0</td>\n",
       "      <td>...</td>\n",
       "      <td>0</td>\n",
       "      <td>1</td>\n",
       "      <td>0</td>\n",
       "      <td>0</td>\n",
       "      <td>0</td>\n",
       "      <td>0</td>\n",
       "      <td>0</td>\n",
       "      <td>0</td>\n",
       "      <td>55</td>\n",
       "      <td>1</td>\n",
       "    </tr>\n",
       "    <tr>\n",
       "      <th>2</th>\n",
       "      <td>2</td>\n",
       "      <td>0</td>\n",
       "      <td>260</td>\n",
       "      <td>0</td>\n",
       "      <td>4</td>\n",
       "      <td>0</td>\n",
       "      <td>3</td>\n",
       "      <td>6</td>\n",
       "      <td>0</td>\n",
       "      <td>0</td>\n",
       "      <td>...</td>\n",
       "      <td>0</td>\n",
       "      <td>0</td>\n",
       "      <td>0</td>\n",
       "      <td>1</td>\n",
       "      <td>1</td>\n",
       "      <td>0</td>\n",
       "      <td>0</td>\n",
       "      <td>0</td>\n",
       "      <td>56</td>\n",
       "      <td>1</td>\n",
       "    </tr>\n",
       "  </tbody>\n",
       "</table>\n",
       "<p>3 rows × 114 columns</p>\n",
       "</div>"
      ],
      "text/plain": [
       "   Unnamed: 0  col_0  col_1  col_2  col_3  col_4  col_5  col_6  col_7  col_8  \\\n",
       "0           0      9   1354      0     18      0      1      7      9      0   \n",
       "1           1      0    239      0      1      0      1      0      0      0   \n",
       "2           2      0    260      0      4      0      3      6      0      0   \n",
       "\n",
       "   ...  col_103  col_104  col_105  col_106  col_107  col_108  col_109  \\\n",
       "0  ...        0        0        0        1        1        0        0   \n",
       "1  ...        0        1        0        0        0        0        0   \n",
       "2  ...        0        0        0        1        1        0        0   \n",
       "\n",
       "   col_110  col_111  targets  \n",
       "0        0       49        1  \n",
       "1        0       55        1  \n",
       "2        0       56        1  \n",
       "\n",
       "[3 rows x 114 columns]"
      ]
     },
     "execution_count": 2,
     "metadata": {},
     "output_type": "execute_result"
    }
   ],
   "source": [
    "# Read data\n",
    "df = pd.read_csv(r\"C:\\Users\\Piotr\\Documents\\DS projects\\resume_projects\\Fraud_detection_classification\\fraud_detection_bank_dataset.csv\")\n",
    "df.head(3)"
   ]
  },
  {
   "cell_type": "markdown",
   "metadata": {},
   "source": [
    "### Data Cleaning\n",
    "\n",
    "<ol>\n",
    "<li>Drop column Unnamed</li>\n",
    "<li>Check for empty strings</li>\n",
    "<li>Check for data type and make sure all numeric</li>\n",
    "</ol>"
   ]
  },
  {
   "cell_type": "code",
   "execution_count": 3,
   "metadata": {},
   "outputs": [],
   "source": [
    "# Drop column 'Unnamed: 0 - index duplication\n",
    "df.drop('Unnamed: 0', axis=1, inplace=True)"
   ]
  },
  {
   "cell_type": "code",
   "execution_count": 4,
   "metadata": {},
   "outputs": [
    {
     "name": "stdout",
     "output_type": "stream",
     "text": [
      "Data Frame shape: (20468, 113)\n"
     ]
    }
   ],
   "source": [
    "# Look at the shape of the data\n",
    "print('Data Frame shape:', df.shape)"
   ]
  },
  {
   "cell_type": "code",
   "execution_count": 5,
   "metadata": {},
   "outputs": [
    {
     "name": "stdout",
     "output_type": "stream",
     "text": [
      "Count of features with missing values: 0\n"
     ]
    }
   ],
   "source": [
    "# Find values with empty strings\n",
    "missing = df.isnull().any().sum()\n",
    "print('Count of features with missing values:', missing)"
   ]
  },
  {
   "cell_type": "code",
   "execution_count": 6,
   "metadata": {},
   "outputs": [],
   "source": [
    "# Define function to print features types\n",
    "def ColumnType(data):\n",
    "    template=\"%-8s %-10s %5s\"\n",
    "    print(template % (\"Column Name\", \"Type\",\"Example Value\"))\n",
    "    print(\"-\"*36)\n",
    "    for c in data.columns:\n",
    "        print(template % (c, data[c].dtype, data[c].iloc[1]) )"
   ]
  },
  {
   "cell_type": "code",
   "execution_count": 7,
   "metadata": {},
   "outputs": [
    {
     "name": "stdout",
     "output_type": "stream",
     "text": [
      "Column Name Type       Example Value\n",
      "------------------------------------\n",
      "col_0    int64          0\n",
      "col_1    int64        239\n",
      "col_2    int64          0\n",
      "col_3    int64          1\n",
      "col_4    int64          0\n",
      "col_5    int64          1\n",
      "col_6    int64          0\n",
      "col_7    int64          0\n",
      "col_8    int64          0\n",
      "col_9    int64          0\n",
      "col_10   int64          0\n",
      "col_11   int64          0\n",
      "col_12   int64          0\n",
      "col_13   int64          0\n",
      "col_14   int64          0\n",
      "col_15   int64          0\n",
      "col_16   int64          1\n",
      "col_17   int64          0\n",
      "col_18   int64          0\n",
      "col_19   int64          0\n",
      "col_20   int64          0\n",
      "col_21   int64          0\n",
      "col_22   int64          0\n",
      "col_23   int64          7\n",
      "col_24   int64          1\n",
      "col_25   int64          0\n",
      "col_26   int64          0\n",
      "col_27   int64          0\n",
      "col_28   int64          1\n",
      "col_29   int64          1\n",
      "col_30   int64          0\n",
      "col_31   int64          0\n",
      "col_32   int64          0\n",
      "col_33   int64          0\n",
      "col_34   int64          0\n",
      "col_35   int64          0\n",
      "col_36   int64          0\n",
      "col_37   int64          0\n",
      "col_38   int64         18\n",
      "col_39   int64          0\n",
      "col_40   int64          0\n",
      "col_41   int64          0\n",
      "col_42   int64          0\n",
      "col_43   int64          0\n",
      "col_44   int64          0\n",
      "col_45   int64          0\n",
      "col_46   int64          0\n",
      "col_47   int64          0\n",
      "col_48   int64          0\n",
      "col_49   int64         14\n",
      "col_50   int64          0\n",
      "col_51   int64          0\n",
      "col_52   int64          0\n",
      "col_53   int64          0\n",
      "col_54   int64         32\n",
      "col_55   int64          0\n",
      "col_56   int64          0\n",
      "col_57   int64          0\n",
      "col_58   int64          0\n",
      "col_59   int64          0\n",
      "col_60   int64          0\n",
      "col_61   int64          0\n",
      "col_62   int64          0\n",
      "col_63   int64          0\n",
      "col_64   int64          0\n",
      "col_65   int64          0\n",
      "col_66   int64          0\n",
      "col_67   float64    1156.72\n",
      "col_68   int64         25\n",
      "col_69   int64          3\n",
      "col_70   int64          0\n",
      "col_71   int64          0\n",
      "col_72   int64          0\n",
      "col_73   int64          0\n",
      "col_74   int64          0\n",
      "col_75   int64          0\n",
      "col_76   int64          0\n",
      "col_77   int64          0\n",
      "col_78   int64          0\n",
      "col_79   int64          0\n",
      "col_80   int64          0\n",
      "col_81   int64          0\n",
      "col_82   int64          0\n",
      "col_83   int64          0\n",
      "col_84   int64          0\n",
      "col_85   int64          0\n",
      "col_86   int64          0\n",
      "col_87   int64          0\n",
      "col_88   int64          0\n",
      "col_89   int64          1\n",
      "col_90   int64          0\n",
      "col_91   int64          0\n",
      "col_92   int64          0\n",
      "col_93   int64          0\n",
      "col_94   int64          0\n",
      "col_95   int64          0\n",
      "col_96   int64          0\n",
      "col_97   int64          0\n",
      "col_98   int64          0\n",
      "col_99   int64          1\n",
      "col_100  int64          0\n",
      "col_101  int64          0\n",
      "col_102  int64          0\n",
      "col_103  int64          0\n",
      "col_104  int64          1\n",
      "col_105  int64          0\n",
      "col_106  int64          0\n",
      "col_107  int64          0\n",
      "col_108  int64          0\n",
      "col_109  int64          0\n",
      "col_110  int64          0\n",
      "col_111  int64         55\n",
      "targets  int64          1\n"
     ]
    }
   ],
   "source": [
    "# Print column types\n",
    "ColumnType(df)"
   ]
  },
  {
   "cell_type": "markdown",
   "metadata": {},
   "source": [
    "## Feature Engineering\n",
    "\n",
    "<li>Run correlation matrix</li>\n",
    "<li>Remove features with low correlation to reduce dimensionality</li>\n",
    "<li>Run mutual info classifier to further reduce the dimensionality of data</li>"
   ]
  },
  {
   "cell_type": "code",
   "execution_count": 8,
   "metadata": {},
   "outputs": [
    {
     "data": {
      "text/html": [
       "<div>\n",
       "<style scoped>\n",
       "    .dataframe tbody tr th:only-of-type {\n",
       "        vertical-align: middle;\n",
       "    }\n",
       "\n",
       "    .dataframe tbody tr th {\n",
       "        vertical-align: top;\n",
       "    }\n",
       "\n",
       "    .dataframe thead th {\n",
       "        text-align: right;\n",
       "    }\n",
       "</style>\n",
       "<table border=\"1\" class=\"dataframe\">\n",
       "  <thead>\n",
       "    <tr style=\"text-align: right;\">\n",
       "      <th></th>\n",
       "      <th>col_0</th>\n",
       "      <th>col_1</th>\n",
       "      <th>col_2</th>\n",
       "      <th>col_3</th>\n",
       "      <th>col_4</th>\n",
       "      <th>col_5</th>\n",
       "      <th>col_6</th>\n",
       "      <th>col_7</th>\n",
       "      <th>col_8</th>\n",
       "      <th>col_9</th>\n",
       "      <th>...</th>\n",
       "      <th>col_103</th>\n",
       "      <th>col_104</th>\n",
       "      <th>col_105</th>\n",
       "      <th>col_106</th>\n",
       "      <th>col_107</th>\n",
       "      <th>col_108</th>\n",
       "      <th>col_109</th>\n",
       "      <th>col_110</th>\n",
       "      <th>col_111</th>\n",
       "      <th>targets</th>\n",
       "    </tr>\n",
       "  </thead>\n",
       "  <tbody>\n",
       "    <tr>\n",
       "      <th>col_0</th>\n",
       "      <td>NaN</td>\n",
       "      <td>NaN</td>\n",
       "      <td>NaN</td>\n",
       "      <td>NaN</td>\n",
       "      <td>NaN</td>\n",
       "      <td>NaN</td>\n",
       "      <td>NaN</td>\n",
       "      <td>NaN</td>\n",
       "      <td>NaN</td>\n",
       "      <td>NaN</td>\n",
       "      <td>...</td>\n",
       "      <td>NaN</td>\n",
       "      <td>NaN</td>\n",
       "      <td>NaN</td>\n",
       "      <td>NaN</td>\n",
       "      <td>NaN</td>\n",
       "      <td>NaN</td>\n",
       "      <td>NaN</td>\n",
       "      <td>NaN</td>\n",
       "      <td>NaN</td>\n",
       "      <td>NaN</td>\n",
       "    </tr>\n",
       "    <tr>\n",
       "      <th>col_1</th>\n",
       "      <td>0.551274</td>\n",
       "      <td>NaN</td>\n",
       "      <td>NaN</td>\n",
       "      <td>NaN</td>\n",
       "      <td>NaN</td>\n",
       "      <td>NaN</td>\n",
       "      <td>NaN</td>\n",
       "      <td>NaN</td>\n",
       "      <td>NaN</td>\n",
       "      <td>NaN</td>\n",
       "      <td>...</td>\n",
       "      <td>NaN</td>\n",
       "      <td>NaN</td>\n",
       "      <td>NaN</td>\n",
       "      <td>NaN</td>\n",
       "      <td>NaN</td>\n",
       "      <td>NaN</td>\n",
       "      <td>NaN</td>\n",
       "      <td>NaN</td>\n",
       "      <td>NaN</td>\n",
       "      <td>NaN</td>\n",
       "    </tr>\n",
       "    <tr>\n",
       "      <th>col_2</th>\n",
       "      <td>0.005679</td>\n",
       "      <td>0.301637</td>\n",
       "      <td>NaN</td>\n",
       "      <td>NaN</td>\n",
       "      <td>NaN</td>\n",
       "      <td>NaN</td>\n",
       "      <td>NaN</td>\n",
       "      <td>NaN</td>\n",
       "      <td>NaN</td>\n",
       "      <td>NaN</td>\n",
       "      <td>...</td>\n",
       "      <td>NaN</td>\n",
       "      <td>NaN</td>\n",
       "      <td>NaN</td>\n",
       "      <td>NaN</td>\n",
       "      <td>NaN</td>\n",
       "      <td>NaN</td>\n",
       "      <td>NaN</td>\n",
       "      <td>NaN</td>\n",
       "      <td>NaN</td>\n",
       "      <td>NaN</td>\n",
       "    </tr>\n",
       "    <tr>\n",
       "      <th>col_3</th>\n",
       "      <td>0.077408</td>\n",
       "      <td>0.280233</td>\n",
       "      <td>0.018034</td>\n",
       "      <td>NaN</td>\n",
       "      <td>NaN</td>\n",
       "      <td>NaN</td>\n",
       "      <td>NaN</td>\n",
       "      <td>NaN</td>\n",
       "      <td>NaN</td>\n",
       "      <td>NaN</td>\n",
       "      <td>...</td>\n",
       "      <td>NaN</td>\n",
       "      <td>NaN</td>\n",
       "      <td>NaN</td>\n",
       "      <td>NaN</td>\n",
       "      <td>NaN</td>\n",
       "      <td>NaN</td>\n",
       "      <td>NaN</td>\n",
       "      <td>NaN</td>\n",
       "      <td>NaN</td>\n",
       "      <td>NaN</td>\n",
       "    </tr>\n",
       "    <tr>\n",
       "      <th>col_4</th>\n",
       "      <td>0.002019</td>\n",
       "      <td>0.102733</td>\n",
       "      <td>0.068560</td>\n",
       "      <td>0.012554</td>\n",
       "      <td>NaN</td>\n",
       "      <td>NaN</td>\n",
       "      <td>NaN</td>\n",
       "      <td>NaN</td>\n",
       "      <td>NaN</td>\n",
       "      <td>NaN</td>\n",
       "      <td>...</td>\n",
       "      <td>NaN</td>\n",
       "      <td>NaN</td>\n",
       "      <td>NaN</td>\n",
       "      <td>NaN</td>\n",
       "      <td>NaN</td>\n",
       "      <td>NaN</td>\n",
       "      <td>NaN</td>\n",
       "      <td>NaN</td>\n",
       "      <td>NaN</td>\n",
       "      <td>NaN</td>\n",
       "    </tr>\n",
       "    <tr>\n",
       "      <th>...</th>\n",
       "      <td>...</td>\n",
       "      <td>...</td>\n",
       "      <td>...</td>\n",
       "      <td>...</td>\n",
       "      <td>...</td>\n",
       "      <td>...</td>\n",
       "      <td>...</td>\n",
       "      <td>...</td>\n",
       "      <td>...</td>\n",
       "      <td>...</td>\n",
       "      <td>...</td>\n",
       "      <td>...</td>\n",
       "      <td>...</td>\n",
       "      <td>...</td>\n",
       "      <td>...</td>\n",
       "      <td>...</td>\n",
       "      <td>...</td>\n",
       "      <td>...</td>\n",
       "      <td>...</td>\n",
       "      <td>...</td>\n",
       "      <td>...</td>\n",
       "    </tr>\n",
       "    <tr>\n",
       "      <th>col_108</th>\n",
       "      <td>0.000603</td>\n",
       "      <td>0.001469</td>\n",
       "      <td>0.005294</td>\n",
       "      <td>0.001617</td>\n",
       "      <td>0.000695</td>\n",
       "      <td>0.001556</td>\n",
       "      <td>0.000894</td>\n",
       "      <td>0.000603</td>\n",
       "      <td>NaN</td>\n",
       "      <td>NaN</td>\n",
       "      <td>...</td>\n",
       "      <td>0.000469</td>\n",
       "      <td>0.005221</td>\n",
       "      <td>0.000346</td>\n",
       "      <td>0.010468</td>\n",
       "      <td>0.014398</td>\n",
       "      <td>NaN</td>\n",
       "      <td>NaN</td>\n",
       "      <td>NaN</td>\n",
       "      <td>NaN</td>\n",
       "      <td>NaN</td>\n",
       "    </tr>\n",
       "    <tr>\n",
       "      <th>col_109</th>\n",
       "      <td>0.011074</td>\n",
       "      <td>0.088685</td>\n",
       "      <td>0.029326</td>\n",
       "      <td>0.070381</td>\n",
       "      <td>0.051145</td>\n",
       "      <td>0.124398</td>\n",
       "      <td>0.003134</td>\n",
       "      <td>0.011074</td>\n",
       "      <td>NaN</td>\n",
       "      <td>NaN</td>\n",
       "      <td>...</td>\n",
       "      <td>0.082940</td>\n",
       "      <td>0.107412</td>\n",
       "      <td>0.061839</td>\n",
       "      <td>0.057408</td>\n",
       "      <td>0.114461</td>\n",
       "      <td>0.030680</td>\n",
       "      <td>NaN</td>\n",
       "      <td>NaN</td>\n",
       "      <td>NaN</td>\n",
       "      <td>NaN</td>\n",
       "    </tr>\n",
       "    <tr>\n",
       "      <th>col_110</th>\n",
       "      <td>0.015806</td>\n",
       "      <td>0.111713</td>\n",
       "      <td>0.009831</td>\n",
       "      <td>0.049871</td>\n",
       "      <td>0.006374</td>\n",
       "      <td>0.116577</td>\n",
       "      <td>0.008749</td>\n",
       "      <td>0.015806</td>\n",
       "      <td>NaN</td>\n",
       "      <td>NaN</td>\n",
       "      <td>...</td>\n",
       "      <td>0.040426</td>\n",
       "      <td>0.003011</td>\n",
       "      <td>0.200445</td>\n",
       "      <td>0.061286</td>\n",
       "      <td>0.150089</td>\n",
       "      <td>0.000556</td>\n",
       "      <td>0.139361</td>\n",
       "      <td>NaN</td>\n",
       "      <td>NaN</td>\n",
       "      <td>NaN</td>\n",
       "    </tr>\n",
       "    <tr>\n",
       "      <th>col_111</th>\n",
       "      <td>0.052114</td>\n",
       "      <td>0.206308</td>\n",
       "      <td>0.033094</td>\n",
       "      <td>0.127431</td>\n",
       "      <td>0.056226</td>\n",
       "      <td>0.223831</td>\n",
       "      <td>0.021537</td>\n",
       "      <td>0.052114</td>\n",
       "      <td>NaN</td>\n",
       "      <td>NaN</td>\n",
       "      <td>...</td>\n",
       "      <td>0.136194</td>\n",
       "      <td>0.402607</td>\n",
       "      <td>0.124260</td>\n",
       "      <td>0.221531</td>\n",
       "      <td>0.329699</td>\n",
       "      <td>0.013871</td>\n",
       "      <td>0.369065</td>\n",
       "      <td>0.334947</td>\n",
       "      <td>NaN</td>\n",
       "      <td>NaN</td>\n",
       "    </tr>\n",
       "    <tr>\n",
       "      <th>targets</th>\n",
       "      <td>0.041022</td>\n",
       "      <td>0.109658</td>\n",
       "      <td>0.026381</td>\n",
       "      <td>0.095612</td>\n",
       "      <td>0.007819</td>\n",
       "      <td>0.058073</td>\n",
       "      <td>0.017351</td>\n",
       "      <td>0.041022</td>\n",
       "      <td>NaN</td>\n",
       "      <td>NaN</td>\n",
       "      <td>...</td>\n",
       "      <td>0.035880</td>\n",
       "      <td>0.273051</td>\n",
       "      <td>0.024011</td>\n",
       "      <td>0.268248</td>\n",
       "      <td>0.190384</td>\n",
       "      <td>0.004204</td>\n",
       "      <td>0.166826</td>\n",
       "      <td>0.071049</td>\n",
       "      <td>0.262442</td>\n",
       "      <td>NaN</td>\n",
       "    </tr>\n",
       "  </tbody>\n",
       "</table>\n",
       "<p>113 rows × 113 columns</p>\n",
       "</div>"
      ],
      "text/plain": [
       "            col_0     col_1     col_2     col_3     col_4     col_5     col_6  \\\n",
       "col_0         NaN       NaN       NaN       NaN       NaN       NaN       NaN   \n",
       "col_1    0.551274       NaN       NaN       NaN       NaN       NaN       NaN   \n",
       "col_2    0.005679  0.301637       NaN       NaN       NaN       NaN       NaN   \n",
       "col_3    0.077408  0.280233  0.018034       NaN       NaN       NaN       NaN   \n",
       "col_4    0.002019  0.102733  0.068560  0.012554       NaN       NaN       NaN   \n",
       "...           ...       ...       ...       ...       ...       ...       ...   \n",
       "col_108  0.000603  0.001469  0.005294  0.001617  0.000695  0.001556  0.000894   \n",
       "col_109  0.011074  0.088685  0.029326  0.070381  0.051145  0.124398  0.003134   \n",
       "col_110  0.015806  0.111713  0.009831  0.049871  0.006374  0.116577  0.008749   \n",
       "col_111  0.052114  0.206308  0.033094  0.127431  0.056226  0.223831  0.021537   \n",
       "targets  0.041022  0.109658  0.026381  0.095612  0.007819  0.058073  0.017351   \n",
       "\n",
       "            col_7  col_8  col_9  ...   col_103   col_104   col_105   col_106  \\\n",
       "col_0         NaN    NaN    NaN  ...       NaN       NaN       NaN       NaN   \n",
       "col_1         NaN    NaN    NaN  ...       NaN       NaN       NaN       NaN   \n",
       "col_2         NaN    NaN    NaN  ...       NaN       NaN       NaN       NaN   \n",
       "col_3         NaN    NaN    NaN  ...       NaN       NaN       NaN       NaN   \n",
       "col_4         NaN    NaN    NaN  ...       NaN       NaN       NaN       NaN   \n",
       "...           ...    ...    ...  ...       ...       ...       ...       ...   \n",
       "col_108  0.000603    NaN    NaN  ...  0.000469  0.005221  0.000346  0.010468   \n",
       "col_109  0.011074    NaN    NaN  ...  0.082940  0.107412  0.061839  0.057408   \n",
       "col_110  0.015806    NaN    NaN  ...  0.040426  0.003011  0.200445  0.061286   \n",
       "col_111  0.052114    NaN    NaN  ...  0.136194  0.402607  0.124260  0.221531   \n",
       "targets  0.041022    NaN    NaN  ...  0.035880  0.273051  0.024011  0.268248   \n",
       "\n",
       "          col_107   col_108   col_109   col_110   col_111  targets  \n",
       "col_0         NaN       NaN       NaN       NaN       NaN      NaN  \n",
       "col_1         NaN       NaN       NaN       NaN       NaN      NaN  \n",
       "col_2         NaN       NaN       NaN       NaN       NaN      NaN  \n",
       "col_3         NaN       NaN       NaN       NaN       NaN      NaN  \n",
       "col_4         NaN       NaN       NaN       NaN       NaN      NaN  \n",
       "...           ...       ...       ...       ...       ...      ...  \n",
       "col_108  0.014398       NaN       NaN       NaN       NaN      NaN  \n",
       "col_109  0.114461  0.030680       NaN       NaN       NaN      NaN  \n",
       "col_110  0.150089  0.000556  0.139361       NaN       NaN      NaN  \n",
       "col_111  0.329699  0.013871  0.369065  0.334947       NaN      NaN  \n",
       "targets  0.190384  0.004204  0.166826  0.071049  0.262442      NaN  \n",
       "\n",
       "[113 rows x 113 columns]"
      ]
     },
     "execution_count": 8,
     "metadata": {},
     "output_type": "execute_result"
    }
   ],
   "source": [
    "# Calculate the correlation matrix and take the absolute value\n",
    "corr_matrix =df.corr().abs()\n",
    "\n",
    "# Create a True/False mask and apply it\n",
    "mask = np.triu(np.ones_like(corr_matrix, dtype=bool))\n",
    "tri_df = corr_matrix.mask(mask)\n",
    "tri_df\n"
   ]
  },
  {
   "cell_type": "code",
   "execution_count": 9,
   "metadata": {},
   "outputs": [
    {
     "data": {
      "text/plain": [
       "['col_0',\n",
       " 'col_1',\n",
       " 'col_7',\n",
       " 'col_22',\n",
       " 'col_23',\n",
       " 'col_36',\n",
       " 'col_37',\n",
       " 'col_38',\n",
       " 'col_40',\n",
       " 'col_42',\n",
       " 'col_44',\n",
       " 'col_47',\n",
       " 'col_48',\n",
       " 'col_49',\n",
       " 'col_50',\n",
       " 'col_54',\n",
       " 'col_55',\n",
       " 'col_57',\n",
       " 'col_60',\n",
       " 'col_63',\n",
       " 'col_64',\n",
       " 'col_65']"
      ]
     },
     "execution_count": 9,
     "metadata": {},
     "output_type": "execute_result"
    }
   ],
   "source": [
    "# List column names of highly correlated features (r > 0.8 )\n",
    "to_drop = [c for c in tri_df.columns if any(tri_df[c] >  0.8)]\n",
    "to_drop\n",
    "\n"
   ]
  },
  {
   "cell_type": "code",
   "execution_count": 10,
   "metadata": {},
   "outputs": [
    {
     "data": {
      "text/plain": [
       "['col_8',\n",
       " 'col_9',\n",
       " 'col_10',\n",
       " 'col_11',\n",
       " 'col_12',\n",
       " 'col_18',\n",
       " 'col_19',\n",
       " 'col_20',\n",
       " 'col_21',\n",
       " 'col_35',\n",
       " 'col_51',\n",
       " 'col_52',\n",
       " 'col_53',\n",
       " 'col_70',\n",
       " 'col_71']"
      ]
     },
     "execution_count": 10,
     "metadata": {},
     "output_type": "execute_result"
    }
   ],
   "source": [
    "# Count sum of procentage features from correlation matrix\n",
    "nan_coll = tri_df[tri_df.columns[tri_df.isnull().any()]].isnull().sum() * 100 / tri_df.shape[0]\n",
    "\n",
    "# Create Data frame for features with 100% of null values to remove them from dataset\n",
    "df_proc = pd.DataFrame(nan_coll, columns = ['Procentage'])\n",
    "col_to_remove = df_proc[df_proc['Procentage'] == 100].index.tolist()\n",
    "col_to_remove.remove('targets')\n",
    "col_to_remove"
   ]
  },
  {
   "cell_type": "code",
   "execution_count": 11,
   "metadata": {},
   "outputs": [
    {
     "data": {
      "text/plain": [
       "['col_0',\n",
       " 'col_1',\n",
       " 'col_10',\n",
       " 'col_11',\n",
       " 'col_12',\n",
       " 'col_18',\n",
       " 'col_19',\n",
       " 'col_20',\n",
       " 'col_21',\n",
       " 'col_22',\n",
       " 'col_23',\n",
       " 'col_35',\n",
       " 'col_36',\n",
       " 'col_37',\n",
       " 'col_38',\n",
       " 'col_40',\n",
       " 'col_42',\n",
       " 'col_44',\n",
       " 'col_47',\n",
       " 'col_48',\n",
       " 'col_49',\n",
       " 'col_50',\n",
       " 'col_51',\n",
       " 'col_52',\n",
       " 'col_53',\n",
       " 'col_54',\n",
       " 'col_55',\n",
       " 'col_57',\n",
       " 'col_60',\n",
       " 'col_63',\n",
       " 'col_64',\n",
       " 'col_65',\n",
       " 'col_7',\n",
       " 'col_70',\n",
       " 'col_71',\n",
       " 'col_8',\n",
       " 'col_9']"
      ]
     },
     "execution_count": 11,
     "metadata": {},
     "output_type": "execute_result"
    }
   ],
   "source": [
    "# Prepare list of features to drop\n",
    "final_drop_list = to_drop + col_to_remove\n",
    "final_drop_list.sort()\n",
    "final_drop_list"
   ]
  },
  {
   "cell_type": "code",
   "execution_count": 12,
   "metadata": {},
   "outputs": [
    {
     "data": {
      "text/plain": [
       "(20468, 76)"
      ]
     },
     "execution_count": 12,
     "metadata": {},
     "output_type": "execute_result"
    }
   ],
   "source": [
    "# Drop the choosen features from DataFrame\n",
    "df.drop(columns = final_drop_list, axis=1, inplace=True)\n",
    "df.shape\n"
   ]
  },
  {
   "cell_type": "code",
   "execution_count": 13,
   "metadata": {},
   "outputs": [
    {
     "name": "stdout",
     "output_type": "stream",
     "text": [
      "X shape: (20468, 75)\n",
      "y shape: (20468,)\n"
     ]
    }
   ],
   "source": [
    "# Splitting target variable from independent variables\n",
    "X = df.drop([\"targets\"], axis = 1)\n",
    "y = df[\"targets\"]\n",
    "\n",
    "print('X shape:', X.shape)\n",
    "print('y shape:', y.shape)\n"
   ]
  },
  {
   "cell_type": "code",
   "execution_count": 14,
   "metadata": {},
   "outputs": [],
   "source": [
    "# Import method from sklearn\n",
    "from sklearn.feature_selection import mutual_info_classif"
   ]
  },
  {
   "cell_type": "code",
   "execution_count": 15,
   "metadata": {
    "scrolled": true
   },
   "outputs": [
    {
     "data": {
      "text/plain": [
       "array([0.01354099, 0.08923437, 0.00078957, 0.14602954, 0.07943286,\n",
       "       0.0012757 , 0.03365246, 0.00079862, 0.00042276, 0.0020704 ,\n",
       "       0.0110804 , 0.0282232 , 0.04712309, 0.00160602, 0.00173407,\n",
       "       0.01466956, 0.01983397, 0.01156918, 0.        , 0.0012862 ,\n",
       "       0.00828982, 0.00217543, 0.0138361 , 0.00930114, 0.00042682,\n",
       "       0.00044761, 0.00162807, 0.        , 0.00616502, 0.01387951,\n",
       "       0.0067679 , 0.02123711, 0.06853498, 0.06893973, 0.02336412,\n",
       "       0.00506016, 0.0063985 , 0.03924281, 0.00250928, 0.04598514,\n",
       "       0.01490033, 0.        , 0.        , 0.00138978, 0.00290799,\n",
       "       0.00646632, 0.12273956, 0.02272229, 0.03093111, 0.03452353,\n",
       "       0.02061707, 0.00729172, 0.02515761, 0.00673906, 0.0004814 ,\n",
       "       0.        , 0.0040511 , 0.01087666, 0.00463195, 0.00463068,\n",
       "       0.00643368, 0.01924308, 0.        , 0.00340784, 0.00442183,\n",
       "       0.02409204, 0.00549705, 0.03550067, 0.00522218, 0.03674852,\n",
       "       0.01977932, 0.        , 0.01315436, 0.0023435 , 0.16827354])"
      ]
     },
     "execution_count": 15,
     "metadata": {},
     "output_type": "execute_result"
    }
   ],
   "source": [
    "# Apply classifier to variables(X, y)\n",
    "mutual_info_classif(X, y)"
   ]
  },
  {
   "cell_type": "code",
   "execution_count": 16,
   "metadata": {},
   "outputs": [
    {
     "data": {
      "text/html": [
       "<div>\n",
       "<style scoped>\n",
       "    .dataframe tbody tr th:only-of-type {\n",
       "        vertical-align: middle;\n",
       "    }\n",
       "\n",
       "    .dataframe tbody tr th {\n",
       "        vertical-align: top;\n",
       "    }\n",
       "\n",
       "    .dataframe thead th {\n",
       "        text-align: right;\n",
       "    }\n",
       "</style>\n",
       "<table border=\"1\" class=\"dataframe\">\n",
       "  <thead>\n",
       "    <tr style=\"text-align: right;\">\n",
       "      <th></th>\n",
       "      <th>col_111</th>\n",
       "      <th>col_5</th>\n",
       "      <th>col_83</th>\n",
       "      <th>col_3</th>\n",
       "      <th>col_6</th>\n",
       "      <th>col_68</th>\n",
       "      <th>col_67</th>\n",
       "      <th>col_106</th>\n",
       "      <th>col_14</th>\n",
       "      <th>col_104</th>\n",
       "    </tr>\n",
       "  </thead>\n",
       "  <tbody>\n",
       "    <tr>\n",
       "      <th>importance</th>\n",
       "      <td>0.171528</td>\n",
       "      <td>0.147819</td>\n",
       "      <td>0.121485</td>\n",
       "      <td>0.091977</td>\n",
       "      <td>0.078834</td>\n",
       "      <td>0.071715</td>\n",
       "      <td>0.067184</td>\n",
       "      <td>0.044903</td>\n",
       "      <td>0.044901</td>\n",
       "      <td>0.043268</td>\n",
       "    </tr>\n",
       "  </tbody>\n",
       "</table>\n",
       "</div>"
      ],
      "text/plain": [
       "             col_111     col_5    col_83     col_3     col_6    col_68  \\\n",
       "importance  0.171528  0.147819  0.121485  0.091977  0.078834  0.071715   \n",
       "\n",
       "              col_67   col_106    col_14   col_104  \n",
       "importance  0.067184  0.044903  0.044901  0.043268  "
      ]
     },
     "execution_count": 16,
     "metadata": {},
     "output_type": "execute_result"
    }
   ],
   "source": [
    "# Create data frame from mutual info classifier\n",
    "variable_imp = pd.DataFrame(mutual_info_classif(X, y), index=X.columns)\n",
    "\n",
    "# Assign coumn name and sort valyes in descending order. \n",
    "variable_imp.columns = ['importance']\n",
    "df_imp = variable_imp.sort_values(by='importance', ascending=False)\n",
    "df_imp.head(10).T"
   ]
  },
  {
   "cell_type": "code",
   "execution_count": 17,
   "metadata": {},
   "outputs": [
    {
     "data": {
      "text/plain": [
       "Text(0, 0.5, 'Variable Importance Score')"
      ]
     },
     "execution_count": 17,
     "metadata": {},
     "output_type": "execute_result"
    },
    {
     "data": {
      "image/png": "[encoded data removed]",
      "text/plain": [
       "<Figure size 1440x216 with 1 Axes>"
      ]
     },
     "metadata": {
      "needs_background": "light"
     },
     "output_type": "display_data"
    }
   ],
   "source": [
    "# Create bar chart for varable importance \n",
    "plt.rcParams[\"figure.figsize\"] = (20, 3)\n",
    "df_imp.plot(kind='bar', title='Variable Importances')\n",
    "plt.ylabel('Variable Importance Score')"
   ]
  },
  {
   "cell_type": "code",
   "execution_count": 18,
   "metadata": {},
   "outputs": [
    {
     "data": {
      "text/plain": [
       "(20468, 66)"
      ]
     },
     "execution_count": 18,
     "metadata": {},
     "output_type": "execute_result"
    }
   ],
   "source": [
    "# Drop columns where mutual info classifier is equal to 0\n",
    "outlist = variable_imp[variable_imp['importance'] == 0]\n",
    "outlist_col = (outlist.index).tolist()\n",
    "\n",
    "X.drop(columns = outlist_col, axis=1, inplace=True)\n",
    "X.shape"
   ]
  },
  {
   "cell_type": "markdown",
   "metadata": {},
   "source": [
    "## Scalling"
   ]
  },
  {
   "cell_type": "code",
   "execution_count": 19,
   "metadata": {},
   "outputs": [
    {
     "name": "stdout",
     "output_type": "stream",
     "text": [
      "Test set values count:\n",
      "0    15030\n",
      "1     5438\n",
      "Name: targets, dtype: int64 %\n",
      "\n",
      "Procentage Target values:\n",
      "0    73.0\n",
      "1    27.0\n",
      "Name: targets, dtype: float64\n"
     ]
    }
   ],
   "source": [
    "# Count Target values\n",
    "print(f'Test set values count:\\n{pd.value_counts(pd.Series(y))} %\\n')\n",
    "                   \n",
    "# Count procentage split for Target values\n",
    "print(f'Procentage Target values:\\n{round(pd.value_counts(pd.Series(y), normalize=True), 2)*100}')"
   ]
  },
  {
   "cell_type": "markdown",
   "metadata": {},
   "source": [
    "Target data represent 27% to 73% they are inbalance \n",
    "Some classification problems can exhibit a large imbalance in the distribution of the target classes: for instance there could be several times more negative samples than positive samples. In such cases it is recommended to use stratified sampling to ensure that relative class frequencies is approximately preserved in each train and validation fold."
   ]
  },
  {
   "cell_type": "code",
   "execution_count": 20,
   "metadata": {},
   "outputs": [],
   "source": [
    "scaler = StandardScaler()\n",
    "X = scaler.fit_transform(X)"
   ]
  },
  {
   "cell_type": "markdown",
   "metadata": {},
   "source": [
    "## Modeling"
   ]
  },
  {
   "cell_type": "code",
   "execution_count": 21,
   "metadata": {},
   "outputs": [],
   "source": [
    "# Split data for Train and Test\n",
    "X_train, X_test, y_train, y_test = train_test_split(X, y, test_size=0.20, random_state=123, stratify=y)"
   ]
  },
  {
   "cell_type": "code",
   "execution_count": 22,
   "metadata": {},
   "outputs": [
    {
     "name": "stdout",
     "output_type": "stream",
     "text": [
      "Procentage train set values:\n",
      "0    73.0\n",
      "1    27.0\n",
      "Name: targets, dtype: float64 \n",
      "\n",
      "Procentage test set values:\n",
      "0    73.0\n",
      "1    27.0\n",
      "Name: targets, dtype: float64\n"
     ]
    }
   ],
   "source": [
    "# Print procentage train and test target values \n",
    "print(\"Procentage train set values:\")\n",
    "print(round(pd.value_counts(pd.Series(y_train), normalize=True), 2)*100, '\\n')\n",
    "print(\"Procentage test set values:\")\n",
    "print(round(pd.value_counts(pd.Series(y_test), normalize=True), 2)*100)"
   ]
  },
  {
   "cell_type": "markdown",
   "metadata": {},
   "source": [
    "## Parameters & Visualization\n",
    "\n",
    "<p>List of used parameters for clasification problem:<br>\n",
    "    <ol>\n",
    "    <li>Accuracy score</li>\n",
    "    <li>Confusion matrix</li>\n",
    "    <li>Classification report</li>\n",
    "    <li>Precision-recall curve</li>\n",
    "    </ol>\n",
    "</p>"
   ]
  },
  {
   "cell_type": "code",
   "execution_count": 23,
   "metadata": {},
   "outputs": [],
   "source": [
    "# Import metrice for classification models\n",
    "from sklearn.metrics import accuracy_score, classification_report, confusion_matrix, roc_auc_score\n",
    "from sklearn.metrics import precision_recall_curve\n",
    "from sklearn.metrics import PrecisionRecallDisplay"
   ]
  },
  {
   "cell_type": "code",
   "execution_count": 24,
   "metadata": {},
   "outputs": [],
   "source": [
    "# Define function that will provide extensive results information\n",
    "\n",
    "def results(name, y_pred):\n",
    "    print('Model is: {}'.format(name))\n",
    "    #model= ml_model.fit(X_train, y_train)\n",
    "    #y_pred = model.predict(X_test)\n",
    "    \n",
    "    print(f'\\nAccuracy Score :\\n{accuracy_score(y_test, y_pred) * 100 } %\\n')\n",
    "    print(f'Confusion Matrix :\\n{confusion_matrix(y_test, y_pred)}\\n')\n",
    "    \n",
    "    conf = confusion_matrix(y_test, y_pred, normalize='all')\n",
    "    print('Confusion Matrix with Normalized Value :')\n",
    "    print('[[{:.3f}  {:.3f}]\\n [{:.3f}  {:.3f}]]\\n'.format(conf[0,0], conf[0,1], conf[1,0], conf[1,1]))\n",
    "    \n",
    "    print(f'Classification Report :\\n{classification_report(y_test, y_pred)}\\n')\n",
    "    print(f'ROC AUC Score :\\n{roc_auc_score(y_test, y_pred,)}\\n')\n",
    "    \n",
    "    #Plot precision-recall curve\n",
    "    plt.rcParams[\"figure.figsize\"] = (5, 5)\n",
    "    prec, recall, _ = precision_recall_curve(y_test, y_pred, pos_label=y_pred[1])\n",
    "    pr_display = PrecisionRecallDisplay(precision=prec, recall=recall).plot()"
   ]
  },
  {
   "cell_type": "markdown",
   "metadata": {},
   "source": [
    "## Models & Hyperparameters tuning\n",
    "\n",
    "<p>Chossen Scikit-learn classification models will be run and tuned in parallel.<br> Best hyperparameters will refit models.<br>Model results will be shown together with precision-recall curve and used best hyperparameters. \n",
    "    List of Scikit-learn models:<br>\n",
    "    <ol>\n",
    "    <li>Logistic regression</li>\n",
    "    <li>Decision Tree Classifier</li>\n",
    "    <li>Gradient Boosting Classifier</li>\n",
    "    <li>Random Forest Classifier</li>\n",
    "    <li>Support Vector Classification</li>\n",
    "    </ol>\n",
    "</p>"
   ]
  },
  {
   "cell_type": "code",
   "execution_count": 25,
   "metadata": {},
   "outputs": [
    {
     "name": "stdout",
     "output_type": "stream",
     "text": [
      "Fitting 5 folds for each of 10 candidates, totalling 50 fits\n"
     ]
    },
    {
     "name": "stderr",
     "output_type": "stream",
     "text": [
      "[Parallel(n_jobs=-1)]: Using backend LokyBackend with 4 concurrent workers.\n",
      "[Parallel(n_jobs=-1)]: Done  24 tasks      | elapsed:   21.7s\n",
      "[Parallel(n_jobs=-1)]: Done  50 out of  50 | elapsed:   50.4s finished\n"
     ]
    },
    {
     "name": "stdout",
     "output_type": "stream",
     "text": [
      "Model is: Logistic regression\n",
      "\n",
      "Accuracy Score :\n",
      "87.42061553492917 %\n",
      "\n",
      "Confusion Matrix :\n",
      "[[2897  109]\n",
      " [ 406  682]]\n",
      "\n",
      "Confusion Matrix with Normalized Value :\n",
      "[[0.708  0.027]\n",
      " [0.099  0.167]]\n",
      "\n",
      "Classification Report :\n",
      "              precision    recall  f1-score   support\n",
      "\n",
      "           0       0.88      0.96      0.92      3006\n",
      "           1       0.86      0.63      0.73      1088\n",
      "\n",
      "    accuracy                           0.87      4094\n",
      "   macro avg       0.87      0.80      0.82      4094\n",
      "weighted avg       0.87      0.87      0.87      4094\n",
      "\n",
      "\n",
      "ROC AUC Score :\n",
      "0.7952887117921021\n",
      "\n",
      "Logistic regression best params: {'solver': 'newton-cg', 'penalty': 'l2', 'max_iter': 100, 'C': 10}\n"
     ]
    },
    {
     "data": {
      "image/png": "[encoded data removed]",
      "text/plain": [
       "<Figure size 360x360 with 1 Axes>"
      ]
     },
     "metadata": {
      "needs_background": "light"
     },
     "output_type": "display_data"
    }
   ],
   "source": [
    "# Logistic regression\n",
    "# List of parameters for toning\n",
    "\n",
    "lrparam_grid = {'C': [1, 10, 100, 1000, 1200],\n",
    "                'penalty': ['l2'],\n",
    "                'max_iter': list(range(100, 500, 100)),\n",
    "                'solver': ['newton-cg', 'lbfgs', 'sag']\n",
    "               }\n",
    "\n",
    "lr_search = RandomizedSearchCV(LogisticRegression(random_state=123), \n",
    "                               param_distributions=lrparam_grid, refit = True, verbose = 3, cv=5, n_jobs=-1)\n",
    "\n",
    "# Fit train data and predict test data \n",
    "lr_search.fit(X_train , y_train)\n",
    "lr_pred = lr_search.predict(X_test)\n",
    "\n",
    "\n",
    "# Show results\n",
    "results('Logistic regression', lr_pred)\n",
    "\n",
    "# Print best model parameters\n",
    "print('Logistic regression best params:', lr_search.best_params_)"
   ]
  },
  {
   "cell_type": "code",
   "execution_count": 26,
   "metadata": {},
   "outputs": [
    {
     "name": "stdout",
     "output_type": "stream",
     "text": [
      "Model is: DecisionTreeClassifier\n",
      "\n",
      "Accuracy Score :\n",
      "90.59599413776257 %\n",
      "\n",
      "Confusion Matrix :\n",
      "[[2799  207]\n",
      " [ 178  910]]\n",
      "\n",
      "Confusion Matrix with Normalized Value :\n",
      "[[0.684  0.051]\n",
      " [0.043  0.222]]\n",
      "\n",
      "Classification Report :\n",
      "              precision    recall  f1-score   support\n",
      "\n",
      "           0       0.94      0.93      0.94      3006\n",
      "           1       0.81      0.84      0.83      1088\n",
      "\n",
      "    accuracy                           0.91      4094\n",
      "   macro avg       0.88      0.88      0.88      4094\n",
      "weighted avg       0.91      0.91      0.91      4094\n",
      "\n",
      "\n",
      "ROC AUC Score :\n",
      "0.8837673916872137\n",
      "\n",
      "DTC best params: DecisionTreeClassifier(criterion='entropy', max_depth=10, random_state=123)\n"
     ]
    },
    {
     "data": {
      "image/png": "[encoded data removed]",
      "text/plain": [
       "<Figure size 360x360 with 1 Axes>"
      ]
     },
     "metadata": {
      "needs_background": "light"
     },
     "output_type": "display_data"
    }
   ],
   "source": [
    "# Decision Tree Classifier\n",
    "\n",
    "# List of parameters for toning\n",
    "dtc_params = {'max_depth': [2, 4, 8, 15],\n",
    "              'max_depth': [4, 10, 20],\n",
    "              'criterion': ['entropy']\n",
    "             }\n",
    "\n",
    "dtc_grid = GridSearchCV(DecisionTreeClassifier(random_state=123), \n",
    "                        dtc_params, scoring='roc_auc', cv=5, refit=True, n_jobs=-1)\n",
    "\n",
    "# Fit train data and predict test data\n",
    "dtc_grid.fit(X_train , y_train)\n",
    "dtc_pred = dtc_grid.predict(X_test)\n",
    "\n",
    "# Show results\n",
    "results('DecisionTreeClassifier', dtc_pred)\n",
    "\n",
    "# Print best model parameters\n",
    "print('DTC best params:', dtc_grid.best_estimator_)\n"
   ]
  },
  {
   "cell_type": "code",
   "execution_count": 27,
   "metadata": {},
   "outputs": [
    {
     "name": "stdout",
     "output_type": "stream",
     "text": [
      "Model is: Gradient Boosting Classifier\n",
      "\n",
      "Accuracy Score :\n",
      "92.67220322423057 %\n",
      "\n",
      "Confusion Matrix :\n",
      "[[2857  149]\n",
      " [ 151  937]]\n",
      "\n",
      "Confusion Matrix with Normalized Value :\n",
      "[[0.698  0.036]\n",
      " [0.037  0.229]]\n",
      "\n",
      "Classification Report :\n",
      "              precision    recall  f1-score   support\n",
      "\n",
      "           0       0.95      0.95      0.95      3006\n",
      "           1       0.86      0.86      0.86      1088\n",
      "\n",
      "    accuracy                           0.93      4094\n",
      "   macro avg       0.91      0.91      0.91      4094\n",
      "weighted avg       0.93      0.93      0.93      4094\n",
      "\n",
      "\n",
      "ROC AUC Score :\n",
      "0.905822851845329\n",
      "\n",
      "GBC best params: GradientBoostingClassifier(max_depth=5, random_state=123)\n"
     ]
    },
    {
     "data": {
      "image/png": "[encoded data removed]",
      "text/plain": [
       "<Figure size 360x360 with 1 Axes>"
      ]
     },
     "metadata": {
      "needs_background": "light"
     },
     "output_type": "display_data"
    }
   ],
   "source": [
    "# Gradient Boosting Classifier\n",
    "# List of parameters for toning\n",
    "gbc_params = {'learning_rate':[0.001,0.01,0.1,0.05],\n",
    "            'n_estimators':[100,500,100],\n",
    "            'max_depth':[3,5,10],\n",
    "            'min_samples_split':[2,5,10]}\n",
    "\n",
    "gbc_grid = RandomizedSearchCV(GradientBoostingClassifier(random_state=123), \n",
    "                              gbc_params, scoring='roc_auc', cv=3, refit=True, n_jobs=-1)\n",
    "\n",
    "# Fit train data and predict test data \n",
    "gbc_grid.fit(X_train , y_train)\n",
    "gbc_predict = gbc_grid.predict(X_test)\n",
    "\n",
    "# Show results\n",
    "results('Gradient Boosting Classifier', gbc_predict)\n",
    "\n",
    "# Print best model parameters\n",
    "print('GBC best params:', gbc_grid.best_estimator_)\n"
   ]
  },
  {
   "cell_type": "code",
   "execution_count": 28,
   "metadata": {},
   "outputs": [
    {
     "name": "stdout",
     "output_type": "stream",
     "text": [
      "Model is: Random Forest Classifier\n",
      "\n",
      "Accuracy Score :\n",
      "92.67220322423057 %\n",
      "\n",
      "Confusion Matrix :\n",
      "[[2869  137]\n",
      " [ 163  925]]\n",
      "\n",
      "Confusion Matrix with Normalized Value :\n",
      "[[0.701  0.033]\n",
      " [0.040  0.226]]\n",
      "\n",
      "Classification Report :\n",
      "              precision    recall  f1-score   support\n",
      "\n",
      "           0       0.95      0.95      0.95      3006\n",
      "           1       0.87      0.85      0.86      1088\n",
      "\n",
      "    accuracy                           0.93      4094\n",
      "   macro avg       0.91      0.90      0.91      4094\n",
      "weighted avg       0.93      0.93      0.93      4094\n",
      "\n",
      "\n",
      "ROC AUC Score :\n",
      "0.9023041539470079\n",
      "\n",
      "RFC best parameters: RandomForestClassifier(bootstrap=False, max_features=10, min_samples_leaf=3,\n",
      "                       n_estimators=300, random_state=123)\n"
     ]
    },
    {
     "data": {
      "image/png": "[encoded data removed]",
      "text/plain": [
       "<Figure size 360x360 with 1 Axes>"
      ]
     },
     "metadata": {
      "needs_background": "light"
     },
     "output_type": "display_data"
    }
   ],
   "source": [
    "# Random Forest Classifier\n",
    "# List of parameters for toning\n",
    "rfc_params = {'max_features':[1,3,10],\n",
    "              'min_samples_split':[2,3,10],\n",
    "              'min_samples_leaf':[1,3,10],\n",
    "              'bootstrap':[False],\n",
    "              'n_estimators':[100,300],\n",
    "              'criterion':['gini']}\n",
    "\n",
    "rfc_grid = GridSearchCV(RandomForestClassifier(random_state=123), \n",
    "                        rfc_params, scoring='roc_auc', cv=3, refit=True, n_jobs=-1)\n",
    "\n",
    "# Fit train data and predict test data \n",
    "rfc_grid.fit(X_train , y_train)\n",
    "rfc_pred = rfc_grid.predict(X_test)\n",
    "\n",
    "# Show results\n",
    "results('Random Forest Classifier', rfc_pred)\n",
    "\n",
    "# Print best model parameters\n",
    "print('RFC best parameters:', rfc_grid.best_estimator_)\n"
   ]
  },
  {
   "cell_type": "code",
   "execution_count": 29,
   "metadata": {},
   "outputs": [
    {
     "name": "stdout",
     "output_type": "stream",
     "text": [
      "Model is: Support Vector Classifier\n",
      "\n",
      "Accuracy Score :\n",
      "89.49682462139717 %\n",
      "\n",
      "Confusion Matrix :\n",
      "[[2852  154]\n",
      " [ 276  812]]\n",
      "\n",
      "Confusion Matrix with Normalized Value :\n",
      "[[0.697  0.038]\n",
      " [0.067  0.198]]\n",
      "\n",
      "Classification Report :\n",
      "              precision    recall  f1-score   support\n",
      "\n",
      "           0       0.91      0.95      0.93      3006\n",
      "           1       0.84      0.75      0.79      1088\n",
      "\n",
      "    accuracy                           0.89      4094\n",
      "   macro avg       0.88      0.85      0.86      4094\n",
      "weighted avg       0.89      0.89      0.89      4094\n",
      "\n",
      "\n",
      "ROC AUC Score :\n",
      "0.8475463289108058\n",
      "\n",
      "SVC best parameters: {'C': 2, 'degree': 2, 'gamma': 0.1, 'kernel': 'rbf'}\n"
     ]
    },
    {
     "data": {
      "image/png": "[encoded data removed]",
      "text/plain": [
       "<Figure size 360x360 with 1 Axes>"
      ]
     },
     "metadata": {
      "needs_background": "light"
     },
     "output_type": "display_data"
    }
   ],
   "source": [
    "# List of parameters for toning\n",
    "svc_params = {'kernel': ['rbf'],\n",
    "              'C': [2, 3, 5],\n",
    "              'gamma': [0.1],\n",
    "              'degree':[2]}\n",
    "\n",
    "svc_grid = GridSearchCV(SVC(random_state=123), \n",
    "                        svc_params, scoring='roc_auc', cv=3, refit=True, n_jobs=-1)\n",
    "\n",
    "# Fit train data and predict test data\n",
    "svc_grid.fit(X_train, y_train)\n",
    "svc_pred = svc_grid.predict(X_test)\n",
    "\n",
    "# Model Results\n",
    "results('Support Vector Classifier', svc_pred)\n",
    "\n",
    "# Print best model parameters\n",
    "print('SVC best parameters:', svc_grid.best_params_)"
   ]
  },
  {
   "cell_type": "markdown",
   "metadata": {},
   "source": [
    "## Final Results\n",
    "\n",
    "I will run Voting Classifier to combine classifiers and use the average predicted probabilities.\n",
    "<p>Chossen Scikit-learn classification models with the best results are:<br> \n",
    "    <ol>\n",
    "    <li>Decision Tree Classifier</li>\n",
    "    <li>Gradient Boosting Classifier</li>\n",
    "    <li>Random Forest Classifier</li>\n",
    "    </ol>\n",
    "\n",
    "</p>\n"
   ]
  },
  {
   "cell_type": "code",
   "execution_count": 30,
   "metadata": {},
   "outputs": [
    {
     "name": "stdout",
     "output_type": "stream",
     "text": [
      "Model is: Voting Classifier 3 models: \n",
      "\n",
      "Accuracy Score :\n",
      "92.67220322423057 %\n",
      "\n",
      "Confusion Matrix :\n",
      "[[2862  144]\n",
      " [ 156  932]]\n",
      "\n",
      "Confusion Matrix with Normalized Value :\n",
      "[[0.699  0.035]\n",
      " [0.038  0.228]]\n",
      "\n",
      "Classification Report :\n",
      "              precision    recall  f1-score   support\n",
      "\n",
      "           0       0.95      0.95      0.95      3006\n",
      "           1       0.87      0.86      0.86      1088\n",
      "\n",
      "    accuracy                           0.93      4094\n",
      "   macro avg       0.91      0.90      0.91      4094\n",
      "weighted avg       0.93      0.93      0.93      4094\n",
      "\n",
      "\n",
      "ROC AUC Score :\n",
      "0.9043567277210285\n",
      "\n"
     ]
    },
    {
     "data": {
      "image/png": "[encoded data removed]",
      "text/plain": [
       "<Figure size 360x360 with 1 Axes>"
      ]
     },
     "metadata": {
      "needs_background": "light"
     },
     "output_type": "display_data"
    }
   ],
   "source": [
    "# List of models for voting classifier \n",
    "vc = VotingClassifier([('RFC', rfc_grid.best_estimator_),\n",
    "                      ('DTC', dtc_grid.best_estimator_),\n",
    "                      ('GBC', gbc_grid.best_estimator_)],\n",
    "                      voting='soft' ,n_jobs=-1,)\n",
    "\n",
    "vc.fit(X_train, y_train)\n",
    "vc_pred = vc.predict(X_test)\n",
    "\n",
    "results('Voting Classifier 3 models: ', vc_pred)"
   ]
  },
  {
   "cell_type": "markdown",
   "metadata": {},
   "source": [
    "Voting calssifier results for 3 choosen models delivered the Accuracy Score: 92.5%"
   ]
  },
  {
   "cell_type": "markdown",
   "metadata": {},
   "source": [
    "## Save Model"
   ]
  },
  {
   "cell_type": "code",
   "execution_count": 31,
   "metadata": {},
   "outputs": [
    {
     "data": {
      "text/plain": [
       "['VC_Model']"
      ]
     },
     "execution_count": 31,
     "metadata": {},
     "output_type": "execute_result"
    }
   ],
   "source": [
    "import joblib\n",
    "joblib.dump(vc_pred, 'VC_Model')"
   ]
  },
  {
   "cell_type": "code",
   "execution_count": null,
   "metadata": {},
   "outputs": [],
   "source": []
  }
 ],
 "metadata": {
  "kernelspec": {
   "display_name": "Python 3",
   "language": "python",
   "name": "python3"
  },
  "language_info": {
   "codemirror_mode": {
    "name": "ipython",
    "version": 3
   },
   "file_extension": ".py",
   "mimetype": "text/x-python",
   "name": "python",
   "nbconvert_exporter": "python",
   "pygments_lexer": "ipython3",
   "version": "3.8.3"
  }
 },
 "nbformat": 4,
 "nbformat_minor": 4
}
